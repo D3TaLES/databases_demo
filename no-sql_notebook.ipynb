{
 "cells": [
  {
   "cell_type": "code",
   "execution_count": 18,
   "outputs": [],
   "source": [
    "from jsonschema import validate\n",
    "from tinydb import TinyDB, Query\n",
    "from databases_demo.processors.master_parser import *\n",
    "from pymongo import MongoClient"
   ],
   "metadata": {
    "collapsed": false,
    "pycharm": {
     "name": "#%%\n"
    }
   }
  },
  {
   "cell_type": "code",
   "execution_count": 20,
   "outputs": [],
   "source": [
    "# Establish Database\n",
    "# db = TinyDB('no-sql_db.json')\n",
    "# db\n",
    "client = MongoClient()\n",
    "db = client.list_database_names()"
   ],
   "metadata": {
    "collapsed": false,
    "pycharm": {
     "name": "#%%\n"
    }
   }
  },
  {
   "cell_type": "code",
   "execution_count": 3,
   "outputs": [
    {
     "data": {
      "text/plain": "{'$id': 'https://raw.githubusercontent.com/D3TaLES/databases_demo/main/no-sql/schema/no-sql_schema.json',\n 'title': 'no-sql_schema',\n 'description': 'Schema for molecule-centric NoSQL demo database',\n 'type': 'object',\n 'properties': {'_id': {'description': 'IUPAC Name for the molecule for the molecule',\n   'type': 'string'},\n  'smiles': {'description': 'SMILES representation of a molecule',\n   'type': 'string'},\n  'synonyms': {'type': 'array',\n   'description': 'Synonymous names of the molecule',\n   'items': {'type': 'string',\n    'description': 'One synonym for the molecule.'}},\n  'molecular_formula': {'type': 'string',\n   'description': 'Molecular formula for molecule.'},\n  'number_of_atoms': {'type': 'integer',\n   'description': 'Number of atoms in the molecule.'},\n  'molecular_weight': {'type': 'number',\n   'description': 'Molecular weight of the molecule in g/mol.'},\n  'source': {'description': 'Source of the molecule', 'type': 'string'},\n  'date_made': {'description': 'Date the molecule was made', 'type': 'string'},\n  'dft_data': {'description': 'List of data from DFT calculations',\n   'type': 'array',\n   'items': {'description': 'Data from a single DFT calculation',\n    '$ref': 'https://raw.githubusercontent.com/D3TaLES/databases_demo/main/no-sql/schema/dft_schema.json'}},\n  'cv_data': {'description': 'List of data from DFT calculations',\n   'type': 'array',\n   'items': {'description': 'Data from a single CV file',\n    '$ref': 'https://raw.githubusercontent.com/D3TaLES/databases_demo/main/no-sql/schema/cv_schema.json'}}},\n 'additionalProperties': False}"
     },
     "execution_count": 3,
     "metadata": {},
     "output_type": "execute_result"
    }
   ],
   "source": [
    "# Get Schema\n",
    "#Extrct schema from schema file\n",
    "with open('schema/no-sql_schema.json') as fn:\n",
    "    schema = json.load(fn)\n",
    "schema"
   ],
   "metadata": {
    "collapsed": false,
    "pycharm": {
     "name": "#%%\n"
    }
   }
  },
  {
   "cell_type": "code",
   "execution_count": 4,
   "outputs": [
    {
     "name": "stdout",
     "output_type": "stream",
     "text": [
      "{'_id': 'cyclohexen-1-ylbenzene', 'smiles': 'C1=C(c2ccccc2)CCCC1', 'synonyms': ['biphenyl', '1-Phenyl-1-cyclohexene', '771-98-2', '1-Phenylcyclohexene', 'Cyclohexen-1-ylbenzene', \"2,3,4,5-tetrahydro-1,1'-biphenyl\", '1-Phenylcyclohex-1-ene', 'Benzene, 1-cyclohexen-1-yl-', 'Phenylcyclohexene', 'Cyclohexenylbenzene', 'Benzene, cyclohexenyl-', 'CYCLOHEXENE, 1-PHENYL-', 'trans-1-Phenylcyclohexene', 'UNII-PM437BQ1OF', '31017-40-0', 'cyclohex-1-en-1-ylbenzene', 'PM437BQ1OF', 'MFCD00001542', '2-Phenylcyclohexene', 'cyclohex-1-enylbenzene', 'EINECS 212-242-6', 'NSC 44834', 'NSC 403862', 'BRN 1905772', 'AI3-02304', 'Phenyl cyclohexene', '1-Phenyl-cyclohexene', 'Phenyl-1-cyclohexene', '1-cyclohexenyl-benzene', '1-Cyclohexen-1-ylbenzene', 'Benzene,cyclohexen-1-yl-', '3-cyclohexen-1-yl-Benzene', '1-Cyclohexen-1-ylbenzene #', '(cyclohex-1-en-1-yl)benzene', 'AMBZ0193', '1-Phenyl-1-cyclohexene, 95%', 'DTXSID10870771', 'CHEBI:183287', 'NSC44834', 'ZINC1677082', 'ICCB1_000079', 'ICCB1_000095', 'NSC-44834', 'NSC403862', 'AKOS005217002', 'AM85908', 'MCULE-8121072217', 'NSC-403862', '71340-36-8', 'DS-12607', 'SY048999', 'DS-021655', 'Benzene, 1-cyclohexen-1-yl- (8CI)(9CI)', 'FT-0608221', 'P1302', 'F13284', 'A839000', 'J-505052', 'Q27286630'], 'molecular_formula': 'C12H14', 'number_of_atoms': 12, 'molecular_weight': 158.109550448, 'source': 'our_lab', 'date_made': datetime.date(2022, 5, 5)}\n"
     ]
    },
    {
     "data": {
      "text/plain": "2"
     },
     "execution_count": 4,
     "metadata": {},
     "output_type": "execute_result"
    }
   ],
   "source": [
    "# Insert a molecule into the database\n",
    "\n",
    "mol_smiles = \"C1=C(c2ccccc2)CCCC1\"\n",
    "source = 'our_lab'\n",
    "names = ['biphenyl']\n",
    "mol_data = GenerateMolInfo(mol_smiles, source=source, names=names).no_sql_data\n",
    "mol_id = mol_data.get('_id')\n",
    "\n",
    "# Validate data\n",
    "validate(instance=mol_data, schema=schema)\n",
    "\n",
    "# Insert molecule into database\n",
    "db.insert(mol_data)"
   ],
   "metadata": {
    "collapsed": false,
    "pycharm": {
     "name": "#%%\n"
    }
   }
  },
  {
   "cell_type": "code",
   "execution_count": 5,
   "outputs": [
    {
     "data": {
      "text/plain": "[1, 2]"
     },
     "execution_count": 5,
     "metadata": {},
     "output_type": "execute_result"
    }
   ],
   "source": [
    "# Insert Gaussian DFT data\n",
    "gaussian_data = ProcessDFT('../raw_data/gaus_opt.log', mol_id=mol_id, parsing_class=ParseGausLog).no_sql_data\n",
    "new_mol_data = {\"_id\": mol_id, \"dft_data\": [gaussian_data]}\n",
    "\n",
    "# Validate data\n",
    "validate(instance=new_mol_data, schema=schema)\n",
    "\n",
    "# Insert molecule into database\n",
    "db.update(new_mol_data)"
   ],
   "metadata": {
    "collapsed": false,
    "pycharm": {
     "name": "#%%\n"
    }
   }
  },
  {
   "cell_type": "code",
   "execution_count": 6,
   "outputs": [
    {
     "data": {
      "text/plain": "[{'_id': 'cyclohexen-1-ylbenzene',\n  'smiles': 'C1=C(c2ccccc2)CCCC1',\n  'synonyms': ['biphenyl',\n   '1-Phenyl-1-cyclohexene',\n   '771-98-2',\n   '1-Phenylcyclohexene',\n   'Cyclohexen-1-ylbenzene',\n   \"2,3,4,5-tetrahydro-1,1'-biphenyl\",\n   '1-Phenylcyclohex-1-ene',\n   'Benzene, 1-cyclohexen-1-yl-',\n   'Phenylcyclohexene',\n   'Cyclohexenylbenzene',\n   'Benzene, cyclohexenyl-',\n   'CYCLOHEXENE, 1-PHENYL-',\n   'trans-1-Phenylcyclohexene',\n   'UNII-PM437BQ1OF',\n   '31017-40-0',\n   'cyclohex-1-en-1-ylbenzene',\n   'PM437BQ1OF',\n   'MFCD00001542',\n   '2-Phenylcyclohexene',\n   'cyclohex-1-enylbenzene',\n   'EINECS 212-242-6',\n   'NSC 44834',\n   'NSC 403862',\n   'BRN 1905772',\n   'AI3-02304',\n   'Phenyl cyclohexene',\n   '1-Phenyl-cyclohexene',\n   'Phenyl-1-cyclohexene',\n   '1-cyclohexenyl-benzene',\n   '1-Cyclohexen-1-ylbenzene',\n   'Benzene,cyclohexen-1-yl-',\n   '3-cyclohexen-1-yl-Benzene',\n   '1-Cyclohexen-1-ylbenzene #',\n   '(cyclohex-1-en-1-yl)benzene',\n   'AMBZ0193',\n   '1-Phenyl-1-cyclohexene, 95%',\n   'DTXSID10870771',\n   'CHEBI:183287',\n   'NSC44834',\n   'ZINC1677082',\n   'ICCB1_000079',\n   'ICCB1_000095',\n   'NSC-44834',\n   'NSC403862',\n   'AKOS005217002',\n   'AM85908',\n   'MCULE-8121072217',\n   'NSC-403862',\n   '71340-36-8',\n   'DS-12607',\n   'SY048999',\n   'DS-021655',\n   'Benzene, 1-cyclohexen-1-yl- (8CI)(9CI)',\n   'FT-0608221',\n   'P1302',\n   'F13284',\n   'A839000',\n   'J-505052',\n   'Q27286630'],\n  'molecular_formula': 'C12H14',\n  'number_of_atoms': 12,\n  'molecular_weight': 158.109550448,\n  'source': 'our_lab',\n  'date_made': '2022-05-05',\n  'dft_data': [{'code_used': 'Gaussian',\n    'functional': 'LC-wHPBE',\n    'basis_set': 'Def2SVP',\n    'charge': 0,\n    'spin_multiplicity': 1,\n    'geometry': [{'name': 'C',\n      'species': [{'element': 'C', 'occu': 1}],\n      'xyz': [-1.285944, -1.105792, -0.478809],\n      'properties': {}},\n     {'name': 'C',\n      'species': [{'element': 'C', 'occu': 1}],\n      'xyz': [-0.608633, -0.017007, -0.040956],\n      'properties': {}},\n     {'name': 'C',\n      'species': [{'element': 'C', 'occu': 1}],\n      'xyz': [0.882719, -0.00649, -0.010879],\n      'properties': {}},\n     {'name': 'C',\n      'species': [{'element': 'C', 'occu': 1}],\n      'xyz': [1.623339, 1.144042, -0.35759],\n      'properties': {}},\n     {'name': 'C',\n      'species': [{'element': 'C', 'occu': 1}],\n      'xyz': [3.023834, 1.135394, -0.347368],\n      'properties': {}},\n     {'name': 'C',\n      'species': [{'element': 'C', 'occu': 1}],\n      'xyz': [3.721431, -0.023156, 0.019677],\n      'properties': {}},\n     {'name': 'C',\n      'species': [{'element': 'C', 'occu': 1}],\n      'xyz': [3.003164, -1.172041, 0.378712],\n      'properties': {}},\n     {'name': 'C',\n      'species': [{'element': 'C', 'occu': 1}],\n      'xyz': [1.603422, -1.160684, 0.367566],\n      'properties': {}},\n     {'name': 'C',\n      'species': [{'element': 'C', 'occu': 1}],\n      'xyz': [-1.345956, 1.214437, 0.452849],\n      'properties': {}},\n     {'name': 'C',\n      'species': [{'element': 'C', 'occu': 1}],\n      'xyz': [-2.832684, 1.218216, 0.080556],\n      'properties': {}},\n     {'name': 'C',\n      'species': [{'element': 'C', 'occu': 1}],\n      'xyz': [-3.470926, -0.146224, 0.353206],\n      'properties': {}},\n     {'name': 'C',\n      'species': [{'element': 'C', 'occu': 1}],\n      'xyz': [-2.786719, -1.23259, -0.483168],\n      'properties': {}},\n     {'name': 'H',\n      'species': [{'element': 'H', 'occu': 1}],\n      'xyz': [-0.713144, -1.959499, -0.877785],\n      'properties': {}},\n     {'name': 'H',\n      'species': [{'element': 'H', 'occu': 1}],\n      'xyz': [1.097137, 2.060345, -0.662761],\n      'properties': {}},\n     {'name': 'H',\n      'species': [{'element': 'H', 'occu': 1}],\n      'xyz': [3.57533, 2.043719, -0.632685],\n      'properties': {}},\n     {'name': 'H',\n      'species': [{'element': 'H', 'occu': 1}],\n      'xyz': [4.82132, -0.028604, 0.032522],\n      'properties': {}},\n     {'name': 'H',\n      'species': [{'element': 'H', 'occu': 1}],\n      'xyz': [3.538002, -2.084226, 0.682942],\n      'properties': {}},\n     {'name': 'H',\n      'species': [{'element': 'H', 'occu': 1}],\n      'xyz': [1.047482, -2.057191, 0.679231],\n      'properties': {}},\n     {'name': 'H',\n      'species': [{'element': 'H', 'occu': 1}],\n      'xyz': [-1.224297, 1.277449, 1.557832],\n      'properties': {}},\n     {'name': 'H',\n      'species': [{'element': 'H', 'occu': 1}],\n      'xyz': [-0.85738, 2.129982, 0.061343],\n      'properties': {}},\n     {'name': 'H',\n      'species': [{'element': 'H', 'occu': 1}],\n      'xyz': [-2.940401, 1.459576, -0.999196],\n      'properties': {}},\n     {'name': 'H',\n      'species': [{'element': 'H', 'occu': 1}],\n      'xyz': [-3.360291, 2.019851, 0.635464],\n      'properties': {}},\n     {'name': 'H',\n      'species': [{'element': 'H', 'occu': 1}],\n      'xyz': [-3.362303, -0.388836, 1.432394],\n      'properties': {}},\n     {'name': 'H',\n      'species': [{'element': 'H', 'occu': 1}],\n      'xyz': [-4.559185, -0.124506, 0.143448],\n      'properties': {}},\n     {'name': 'H',\n      'species': [{'element': 'H', 'occu': 1}],\n      'xyz': [-3.151937, -1.193752, -1.535246],\n      'properties': {}},\n     {'name': 'H',\n      'species': [{'element': 'H', 'occu': 1}],\n      'xyz': [-3.072607, -2.242939, -0.120289],\n      'properties': {}}],\n    'scf_total_energy': -12650.372742932348,\n    'homo': -7.316057004,\n    'lumo': 0.521642538}]},\n {'_id': 'cyclohexen-1-ylbenzene',\n  'smiles': 'C1=C(c2ccccc2)CCCC1',\n  'synonyms': ['biphenyl',\n   '1-Phenyl-1-cyclohexene',\n   '771-98-2',\n   '1-Phenylcyclohexene',\n   'Cyclohexen-1-ylbenzene',\n   \"2,3,4,5-tetrahydro-1,1'-biphenyl\",\n   '1-Phenylcyclohex-1-ene',\n   'Benzene, 1-cyclohexen-1-yl-',\n   'Phenylcyclohexene',\n   'Cyclohexenylbenzene',\n   'Benzene, cyclohexenyl-',\n   'CYCLOHEXENE, 1-PHENYL-',\n   'trans-1-Phenylcyclohexene',\n   'UNII-PM437BQ1OF',\n   '31017-40-0',\n   'cyclohex-1-en-1-ylbenzene',\n   'PM437BQ1OF',\n   'MFCD00001542',\n   '2-Phenylcyclohexene',\n   'cyclohex-1-enylbenzene',\n   'EINECS 212-242-6',\n   'NSC 44834',\n   'NSC 403862',\n   'BRN 1905772',\n   'AI3-02304',\n   'Phenyl cyclohexene',\n   '1-Phenyl-cyclohexene',\n   'Phenyl-1-cyclohexene',\n   '1-cyclohexenyl-benzene',\n   '1-Cyclohexen-1-ylbenzene',\n   'Benzene,cyclohexen-1-yl-',\n   '3-cyclohexen-1-yl-Benzene',\n   '1-Cyclohexen-1-ylbenzene #',\n   '(cyclohex-1-en-1-yl)benzene',\n   'AMBZ0193',\n   '1-Phenyl-1-cyclohexene, 95%',\n   'DTXSID10870771',\n   'CHEBI:183287',\n   'NSC44834',\n   'ZINC1677082',\n   'ICCB1_000079',\n   'ICCB1_000095',\n   'NSC-44834',\n   'NSC403862',\n   'AKOS005217002',\n   'AM85908',\n   'MCULE-8121072217',\n   'NSC-403862',\n   '71340-36-8',\n   'DS-12607',\n   'SY048999',\n   'DS-021655',\n   'Benzene, 1-cyclohexen-1-yl- (8CI)(9CI)',\n   'FT-0608221',\n   'P1302',\n   'F13284',\n   'A839000',\n   'J-505052',\n   'Q27286630'],\n  'molecular_formula': 'C12H14',\n  'number_of_atoms': 12,\n  'molecular_weight': 158.109550448,\n  'source': 'our_lab',\n  'date_made': '2022-05-05',\n  'dft_data': [{'code_used': 'Gaussian',\n    'functional': 'LC-wHPBE',\n    'basis_set': 'Def2SVP',\n    'charge': 0,\n    'spin_multiplicity': 1,\n    'geometry': [{'name': 'C',\n      'species': [{'element': 'C', 'occu': 1}],\n      'xyz': [-1.285944, -1.105792, -0.478809],\n      'properties': {}},\n     {'name': 'C',\n      'species': [{'element': 'C', 'occu': 1}],\n      'xyz': [-0.608633, -0.017007, -0.040956],\n      'properties': {}},\n     {'name': 'C',\n      'species': [{'element': 'C', 'occu': 1}],\n      'xyz': [0.882719, -0.00649, -0.010879],\n      'properties': {}},\n     {'name': 'C',\n      'species': [{'element': 'C', 'occu': 1}],\n      'xyz': [1.623339, 1.144042, -0.35759],\n      'properties': {}},\n     {'name': 'C',\n      'species': [{'element': 'C', 'occu': 1}],\n      'xyz': [3.023834, 1.135394, -0.347368],\n      'properties': {}},\n     {'name': 'C',\n      'species': [{'element': 'C', 'occu': 1}],\n      'xyz': [3.721431, -0.023156, 0.019677],\n      'properties': {}},\n     {'name': 'C',\n      'species': [{'element': 'C', 'occu': 1}],\n      'xyz': [3.003164, -1.172041, 0.378712],\n      'properties': {}},\n     {'name': 'C',\n      'species': [{'element': 'C', 'occu': 1}],\n      'xyz': [1.603422, -1.160684, 0.367566],\n      'properties': {}},\n     {'name': 'C',\n      'species': [{'element': 'C', 'occu': 1}],\n      'xyz': [-1.345956, 1.214437, 0.452849],\n      'properties': {}},\n     {'name': 'C',\n      'species': [{'element': 'C', 'occu': 1}],\n      'xyz': [-2.832684, 1.218216, 0.080556],\n      'properties': {}},\n     {'name': 'C',\n      'species': [{'element': 'C', 'occu': 1}],\n      'xyz': [-3.470926, -0.146224, 0.353206],\n      'properties': {}},\n     {'name': 'C',\n      'species': [{'element': 'C', 'occu': 1}],\n      'xyz': [-2.786719, -1.23259, -0.483168],\n      'properties': {}},\n     {'name': 'H',\n      'species': [{'element': 'H', 'occu': 1}],\n      'xyz': [-0.713144, -1.959499, -0.877785],\n      'properties': {}},\n     {'name': 'H',\n      'species': [{'element': 'H', 'occu': 1}],\n      'xyz': [1.097137, 2.060345, -0.662761],\n      'properties': {}},\n     {'name': 'H',\n      'species': [{'element': 'H', 'occu': 1}],\n      'xyz': [3.57533, 2.043719, -0.632685],\n      'properties': {}},\n     {'name': 'H',\n      'species': [{'element': 'H', 'occu': 1}],\n      'xyz': [4.82132, -0.028604, 0.032522],\n      'properties': {}},\n     {'name': 'H',\n      'species': [{'element': 'H', 'occu': 1}],\n      'xyz': [3.538002, -2.084226, 0.682942],\n      'properties': {}},\n     {'name': 'H',\n      'species': [{'element': 'H', 'occu': 1}],\n      'xyz': [1.047482, -2.057191, 0.679231],\n      'properties': {}},\n     {'name': 'H',\n      'species': [{'element': 'H', 'occu': 1}],\n      'xyz': [-1.224297, 1.277449, 1.557832],\n      'properties': {}},\n     {'name': 'H',\n      'species': [{'element': 'H', 'occu': 1}],\n      'xyz': [-0.85738, 2.129982, 0.061343],\n      'properties': {}},\n     {'name': 'H',\n      'species': [{'element': 'H', 'occu': 1}],\n      'xyz': [-2.940401, 1.459576, -0.999196],\n      'properties': {}},\n     {'name': 'H',\n      'species': [{'element': 'H', 'occu': 1}],\n      'xyz': [-3.360291, 2.019851, 0.635464],\n      'properties': {}},\n     {'name': 'H',\n      'species': [{'element': 'H', 'occu': 1}],\n      'xyz': [-3.362303, -0.388836, 1.432394],\n      'properties': {}},\n     {'name': 'H',\n      'species': [{'element': 'H', 'occu': 1}],\n      'xyz': [-4.559185, -0.124506, 0.143448],\n      'properties': {}},\n     {'name': 'H',\n      'species': [{'element': 'H', 'occu': 1}],\n      'xyz': [-3.151937, -1.193752, -1.535246],\n      'properties': {}},\n     {'name': 'H',\n      'species': [{'element': 'H', 'occu': 1}],\n      'xyz': [-3.072607, -2.242939, -0.120289],\n      'properties': {}}],\n    'scf_total_energy': -12650.372742932348,\n    'homo': -7.316057004,\n    'lumo': 0.521642538}]}]"
     },
     "execution_count": 6,
     "metadata": {},
     "output_type": "execute_result"
    }
   ],
   "source": [
    "Molecule = Query()\n",
    "# View molecule entry\n",
    "db.search(Molecule.dft_data.exists())"
   ],
   "metadata": {
    "collapsed": false,
    "pycharm": {
     "name": "#%%\n"
    }
   }
  },
  {
   "cell_type": "code",
   "execution_count": 7,
   "outputs": [
    {
     "data": {
      "text/plain": "[1, 2]"
     },
     "execution_count": 7,
     "metadata": {},
     "output_type": "execute_result"
    }
   ],
   "source": [
    "# Insert Psi4 DFT data\n",
    "psi4_data = ProcessDFT('../raw_data/psi4_opt.dat', mol_id=mol_id, parsing_class=ParsePsi4Log).no_sql_data\n",
    "new_mol_data = {\"_id\": mol_id, \"dft_data\": [psi4_data]}\n",
    "\n",
    "# Validate data\n",
    "validate(instance=new_mol_data, schema=schema)\n",
    "\n",
    "# Insert molecule into database\n",
    "db.update(new_mol_data)"
   ],
   "metadata": {
    "collapsed": false,
    "pycharm": {
     "name": "#%%\n"
    }
   }
  },
  {
   "cell_type": "code",
   "execution_count": 8,
   "outputs": [
    {
     "data": {
      "text/plain": "[{'_id': 'cyclohexen-1-ylbenzene',\n  'smiles': 'C1=C(c2ccccc2)CCCC1',\n  'synonyms': ['biphenyl',\n   '1-Phenyl-1-cyclohexene',\n   '771-98-2',\n   '1-Phenylcyclohexene',\n   'Cyclohexen-1-ylbenzene',\n   \"2,3,4,5-tetrahydro-1,1'-biphenyl\",\n   '1-Phenylcyclohex-1-ene',\n   'Benzene, 1-cyclohexen-1-yl-',\n   'Phenylcyclohexene',\n   'Cyclohexenylbenzene',\n   'Benzene, cyclohexenyl-',\n   'CYCLOHEXENE, 1-PHENYL-',\n   'trans-1-Phenylcyclohexene',\n   'UNII-PM437BQ1OF',\n   '31017-40-0',\n   'cyclohex-1-en-1-ylbenzene',\n   'PM437BQ1OF',\n   'MFCD00001542',\n   '2-Phenylcyclohexene',\n   'cyclohex-1-enylbenzene',\n   'EINECS 212-242-6',\n   'NSC 44834',\n   'NSC 403862',\n   'BRN 1905772',\n   'AI3-02304',\n   'Phenyl cyclohexene',\n   '1-Phenyl-cyclohexene',\n   'Phenyl-1-cyclohexene',\n   '1-cyclohexenyl-benzene',\n   '1-Cyclohexen-1-ylbenzene',\n   'Benzene,cyclohexen-1-yl-',\n   '3-cyclohexen-1-yl-Benzene',\n   '1-Cyclohexen-1-ylbenzene #',\n   '(cyclohex-1-en-1-yl)benzene',\n   'AMBZ0193',\n   '1-Phenyl-1-cyclohexene, 95%',\n   'DTXSID10870771',\n   'CHEBI:183287',\n   'NSC44834',\n   'ZINC1677082',\n   'ICCB1_000079',\n   'ICCB1_000095',\n   'NSC-44834',\n   'NSC403862',\n   'AKOS005217002',\n   'AM85908',\n   'MCULE-8121072217',\n   'NSC-403862',\n   '71340-36-8',\n   'DS-12607',\n   'SY048999',\n   'DS-021655',\n   'Benzene, 1-cyclohexen-1-yl- (8CI)(9CI)',\n   'FT-0608221',\n   'P1302',\n   'F13284',\n   'A839000',\n   'J-505052',\n   'Q27286630'],\n  'molecular_formula': 'C12H14',\n  'number_of_atoms': 12,\n  'molecular_weight': 158.109550448,\n  'source': 'our_lab',\n  'date_made': '2022-05-05',\n  'dft_data': [{'code_used': 'Psi4',\n    'functional': 'B3LYP',\n    'basis_set': '3-21G',\n    'charge': 0,\n    'spin_multiplicity': 1,\n    'geometry': [],\n    'scf_total_energy': -12603.21330591412,\n    'homo': 0,\n    'lumo': 0}]},\n {'_id': 'cyclohexen-1-ylbenzene',\n  'smiles': 'C1=C(c2ccccc2)CCCC1',\n  'synonyms': ['biphenyl',\n   '1-Phenyl-1-cyclohexene',\n   '771-98-2',\n   '1-Phenylcyclohexene',\n   'Cyclohexen-1-ylbenzene',\n   \"2,3,4,5-tetrahydro-1,1'-biphenyl\",\n   '1-Phenylcyclohex-1-ene',\n   'Benzene, 1-cyclohexen-1-yl-',\n   'Phenylcyclohexene',\n   'Cyclohexenylbenzene',\n   'Benzene, cyclohexenyl-',\n   'CYCLOHEXENE, 1-PHENYL-',\n   'trans-1-Phenylcyclohexene',\n   'UNII-PM437BQ1OF',\n   '31017-40-0',\n   'cyclohex-1-en-1-ylbenzene',\n   'PM437BQ1OF',\n   'MFCD00001542',\n   '2-Phenylcyclohexene',\n   'cyclohex-1-enylbenzene',\n   'EINECS 212-242-6',\n   'NSC 44834',\n   'NSC 403862',\n   'BRN 1905772',\n   'AI3-02304',\n   'Phenyl cyclohexene',\n   '1-Phenyl-cyclohexene',\n   'Phenyl-1-cyclohexene',\n   '1-cyclohexenyl-benzene',\n   '1-Cyclohexen-1-ylbenzene',\n   'Benzene,cyclohexen-1-yl-',\n   '3-cyclohexen-1-yl-Benzene',\n   '1-Cyclohexen-1-ylbenzene #',\n   '(cyclohex-1-en-1-yl)benzene',\n   'AMBZ0193',\n   '1-Phenyl-1-cyclohexene, 95%',\n   'DTXSID10870771',\n   'CHEBI:183287',\n   'NSC44834',\n   'ZINC1677082',\n   'ICCB1_000079',\n   'ICCB1_000095',\n   'NSC-44834',\n   'NSC403862',\n   'AKOS005217002',\n   'AM85908',\n   'MCULE-8121072217',\n   'NSC-403862',\n   '71340-36-8',\n   'DS-12607',\n   'SY048999',\n   'DS-021655',\n   'Benzene, 1-cyclohexen-1-yl- (8CI)(9CI)',\n   'FT-0608221',\n   'P1302',\n   'F13284',\n   'A839000',\n   'J-505052',\n   'Q27286630'],\n  'molecular_formula': 'C12H14',\n  'number_of_atoms': 12,\n  'molecular_weight': 158.109550448,\n  'source': 'our_lab',\n  'date_made': '2022-05-05',\n  'dft_data': [{'code_used': 'Psi4',\n    'functional': 'B3LYP',\n    'basis_set': '3-21G',\n    'charge': 0,\n    'spin_multiplicity': 1,\n    'geometry': [],\n    'scf_total_energy': -12603.21330591412,\n    'homo': 0,\n    'lumo': 0}]}]"
     },
     "execution_count": 8,
     "metadata": {},
     "output_type": "execute_result"
    }
   ],
   "source": [
    "# View molecule entry\n",
    "db.search(Molecule.dft_data.exists())"
   ],
   "metadata": {
    "collapsed": false,
    "pycharm": {
     "name": "#%%\n"
    }
   }
  },
  {
   "cell_type": "code",
   "execution_count": 16,
   "outputs": [
    {
     "data": {
      "text/plain": "2"
     },
     "execution_count": 16,
     "metadata": {},
     "output_type": "execute_result"
    }
   ],
   "source": [
    "# Search for molecules with more than 10 atoms\n",
    "search = db.search(Molecule.number_of_atoms > 10)\n",
    "\n",
    "# Get the number of molecules with more than 10 atoms by getting the length of the search\n",
    "len(search)"
   ],
   "metadata": {
    "collapsed": false,
    "pycharm": {
     "name": "#%%\n"
    }
   }
  },
  {
   "cell_type": "code",
   "execution_count": null,
   "outputs": [],
   "source": [],
   "metadata": {
    "collapsed": false,
    "pycharm": {
     "name": "#%%\n"
    }
   }
  }
 ],
 "metadata": {
  "kernelspec": {
   "display_name": "Python 3",
   "language": "python",
   "name": "python3"
  },
  "language_info": {
   "codemirror_mode": {
    "name": "ipython",
    "version": 2
   },
   "file_extension": ".py",
   "mimetype": "text/x-python",
   "name": "python",
   "nbconvert_exporter": "python",
   "pygments_lexer": "ipython2",
   "version": "2.7.6"
  }
 },
 "nbformat": 4,
 "nbformat_minor": 0
}