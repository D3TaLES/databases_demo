{
  "cells": [
    {
      "cell_type": "markdown",
      "metadata": {
        "id": "view-in-github",
        "colab_type": "text"
      },
      "source": [
        "<a href=\"https://colab.research.google.com/github/D3TaLES/databases_demo/blob/main/notebooks/processing_notebook.ipynb\" target=\"_parent\"><img src=\"https://colab.research.google.com/assets/colab-badge.svg\" alt=\"Open In Colab\"/></a>"
      ]
    },
    {
      "cell_type": "markdown",
      "source": [
        "# Manually process absorption data"
      ],
      "metadata": {
        "id": "HuaJd0BapGdR"
      }
    },
    {
      "cell_type": "code",
      "execution_count": null,
      "metadata": {
        "id": "hjisDzzhEQgo"
      },
      "outputs": [],
      "source": [
        "# Import Required code \n",
        "import pandas as pd # import Pandas for file parsing\n",
        "from scipy.signal import find_peaks # import SciPY for peak finding "
      ]
    },
    {
      "cell_type": "code",
      "source": [
        "# Pull example data files from GitHub\n",
        "! rm -r databases_demo/ # remove database_demo directory if it already exists\n",
        "! git clone https://github.com/D3TaLES/databases_demo.git # get code from GitHub repository "
      ],
      "metadata": {
        "colab": {
          "base_uri": "https://localhost:8080/"
        },
        "id": "XXwbbuRVp7Cu",
        "outputId": "4df1d34d-8f82-4e17-c812-b1647e25c48e"
      },
      "execution_count": null,
      "outputs": [
        {
          "output_type": "stream",
          "name": "stdout",
          "text": [
            "rm: cannot remove 'databases_demo/': No such file or directory\n",
            "Cloning into 'databases_demo'...\n",
            "remote: Enumerating objects: 329, done.\u001b[K\n",
            "remote: Counting objects: 100% (25/25), done.\u001b[K\n",
            "remote: Compressing objects: 100% (19/19), done.\u001b[K\n",
            "remote: Total 329 (delta 8), reused 19 (delta 6), pack-reused 304\u001b[K\n",
            "Receiving objects: 100% (329/329), 681.98 KiB | 3.73 MiB/s, done.\n",
            "Resolving deltas: 100% (176/176), done.\n"
          ]
        }
      ]
    },
    {
      "cell_type": "code",
      "source": [
        "# Use pandas package to read csv file\n",
        "data = pd.read_csv(\"databases_demo/raw_data/uvvis_biphenyl.csv\", header=3, names=['wavelength', 'absorbance'])\n",
        "# Use scipy package to find the absorbance peaks\n",
        "peaks, _ = find_peaks(data.absorbance, height=0.3)\n",
        "# Find the wavelength values the correspond to the absorbance peaks\n",
        "peaks_wavelength = [data.wavelength[p]for p in peaks]\n",
        "# Find the first (lowest) wavelength value for the absorbance peaks\n",
        "first_peak =  min(peaks_wavelength)"
      ],
      "metadata": {
        "id": "ghZf83znYn1X"
      },
      "execution_count": null,
      "outputs": []
    },
    {
      "cell_type": "code",
      "source": [
        "# Calculate optical gap\n",
        "optical_gap = round(1240 / first_peak, 3)\n",
        "print(optical_gap)\n"
      ],
      "metadata": {
        "colab": {
          "base_uri": "https://localhost:8080/"
        },
        "id": "2BspFHuXp2hp",
        "outputId": "e1494e86-a7d8-446d-ed9f-12e243e2dd79"
      },
      "execution_count": null,
      "outputs": [
        {
          "output_type": "stream",
          "name": "stdout",
          "text": [
            "3.69\n"
          ]
        }
      ]
    },
    {
      "cell_type": "code",
      "source": [
        "# Get final absorbance data to insert into database\n",
        "absorbance_data = data.to_dict('records')\n",
        "print(absorbance_data[:10]) # Show first 10 absorbance data records"
      ],
      "metadata": {
        "colab": {
          "base_uri": "https://localhost:8080/"
        },
        "id": "wl7H-pRJqBmV",
        "outputId": "02ef6d96-698b-4329-9167-dc2cc9121827"
      },
      "execution_count": null,
      "outputs": [
        {
          "output_type": "stream",
          "name": "stdout",
          "text": [
            "[{'wavelength': 1005.0, 'absorbance': 0.000504422}, {'wavelength': 997.0, 'absorbance': 0.000583079}, {'wavelength': 989.0, 'absorbance': 0.000667289}, {'wavelength': 981.0, 'absorbance': 0.000756056}, {'wavelength': 973.0, 'absorbance': 0.000848101}, {'wavelength': 966.0, 'absorbance': 0.000941877}, {'wavelength': 958.0, 'absorbance': 0.001035605}, {'wavelength': 951.0, 'absorbance': 0.001127321}, {'wavelength': 944.0, 'absorbance': 0.001214939}, {'wavelength': 937.0, 'absorbance': 0.001296327}]\n"
          ]
        }
      ]
    },
    {
      "cell_type": "code",
      "source": [],
      "metadata": {
        "id": "VvvyPJ7AqMvh"
      },
      "execution_count": null,
      "outputs": []
    }
  ],
  "metadata": {
    "colab": {
      "collapsed_sections": [],
      "provenance": [],
      "include_colab_link": true
    },
    "kernelspec": {
      "display_name": "Python 3",
      "name": "python3"
    },
    "language_info": {
      "name": "python"
    }
  },
  "nbformat": 4,
  "nbformat_minor": 0
}