{
  "cells": [
    {
      "cell_type": "markdown",
      "metadata": {
        "id": "view-in-github",
        "colab_type": "text"
      },
      "source": [
        "<a href=\"https://colab.research.google.com/github/D3TaLES/databases_demo/blob/main/notebooks/processing_notebook.ipynb\" target=\"_parent\"><img src=\"https://colab.research.google.com/assets/colab-badge.svg\" alt=\"Open In Colab\"/></a>"
      ]
    },
    {
      "cell_type": "markdown",
      "metadata": {
        "id": "HuaJd0BapGdR"
      },
      "source": [
        "# Procesing data with code.\n",
        "\n",
        "In this notebook, we will demonstrate how to process data with python. Automated data processing has a couple advantanges over manual data parsing including reduction in human error and the fact that (after the initial effort of encoding the process) automated procesing can be used repeatedly to get results with no additional effort. As an example, we will process experimental absorption data from a CSV file. \n",
        "\n",
        "We use [pandas](https://pandas.pydata.org/) for handling data and [scipy](https://scipy.org/) for processing spectral data to find peaks and calculate the optical gap. This processing consists of four processing steps shown in the figure below. \n",
        "\n",
        "![](https://drive.google.com/uc?export=view&id=11u3qkqj-Pv6yj_QEocRXbEVmBKEkMxxb)\n",
        "\n",
        "Note: The packages used here are already installed in colab, so we will only import the packages. In case you do not have the pacakages installed, please install pandas and scipy."
      ]
    },
    {
      "cell_type": "markdown",
      "source": [
        "##STEP 0: Import python packages and get raw data files "
      ],
      "metadata": {
        "id": "vB6Wgbj7EFXW"
      }
    },
    {
      "cell_type": "code",
      "execution_count": null,
      "metadata": {
        "id": "hjisDzzhEQgo"
      },
      "outputs": [],
      "source": [
        "# Import pandas and scipy definitions\n",
        "import pandas as pd  \n",
        "from scipy.signal import find_peaks  "
      ]
    },
    {
      "cell_type": "markdown",
      "metadata": {
        "id": "6ownJHn9Y5Wj"
      },
      "source": [
        "The code below will fetch the sample absorption data files from GitHub"
      ]
    },
    {
      "cell_type": "code",
      "execution_count": null,
      "metadata": {
        "colab": {
          "base_uri": "https://localhost:8080/"
        },
        "id": "XXwbbuRVp7Cu",
        "outputId": "774c4a2a-3bd6-41ca-c36e-f26c37f4532b"
      },
      "outputs": [
        {
          "output_type": "stream",
          "name": "stdout",
          "text": [
            "rm: cannot remove 'databases_demo/': No such file or directory\n",
            "Cloning into 'databases_demo'...\n",
            "remote: Enumerating objects: 372, done.\u001b[K\n",
            "remote: Counting objects: 100% (68/68), done.\u001b[K\n",
            "remote: Compressing objects: 100% (60/60), done.\u001b[K\n",
            "remote: Total 372 (delta 30), reused 25 (delta 8), pack-reused 304\u001b[K\n",
            "Receiving objects: 100% (372/372), 696.73 KiB | 6.11 MiB/s, done.\n",
            "Resolving deltas: 100% (198/198), done.\n"
          ]
        }
      ],
      "source": [
        "# Pull example data files from GitHub\n",
        "! rm -r databases_demo/ # remove database_demo directory if it already exists\n",
        "! git clone https://github.com/D3TaLES/databases_demo.git # get code from GitHub repository "
      ]
    },
    {
      "cell_type": "markdown",
      "metadata": {
        "id": "UpfMGeG1bvuH"
      },
      "source": [
        "## STEP 1: Read spectrometer CSV files with the pandas package\n",
        "For easy handling of data, we will create a pandas DataFrame from the CSV file. Our CSV file is located in databases_demo --> raw_data folder. The following cell will also display the sample data"
      ]
    },
    {
      "cell_type": "code",
      "execution_count": null,
      "metadata": {
        "colab": {
          "base_uri": "https://localhost:8080/",
          "height": 424
        },
        "id": "ghZf83znYn1X",
        "outputId": "f31850a9-5aa0-4ccf-d30f-fc1ea74cfc6e"
      },
      "outputs": [
        {
          "output_type": "execute_result",
          "data": {
            "text/plain": [
              "     wavelength    absorbance\n",
              "0        1005.0  5.044220e-04\n",
              "1         997.0  5.830790e-04\n",
              "2         989.0  6.672890e-04\n",
              "3         981.0  7.560560e-04\n",
              "4         973.0  8.481010e-04\n",
              "..          ...           ...\n",
              "403       235.0  3.970000e-07\n",
              "404       235.0  2.480000e-07\n",
              "405       235.0  1.540000e-07\n",
              "406       234.0  9.450000e-08\n",
              "407         NaN           NaN\n",
              "\n",
              "[408 rows x 2 columns]"
            ],
            "text/html": [
              "\n",
              "  <div id=\"df-4dee9787-3001-41fd-a2e6-5c9664dff153\">\n",
              "    <div class=\"colab-df-container\">\n",
              "      <div>\n",
              "<style scoped>\n",
              "    .dataframe tbody tr th:only-of-type {\n",
              "        vertical-align: middle;\n",
              "    }\n",
              "\n",
              "    .dataframe tbody tr th {\n",
              "        vertical-align: top;\n",
              "    }\n",
              "\n",
              "    .dataframe thead th {\n",
              "        text-align: right;\n",
              "    }\n",
              "</style>\n",
              "<table border=\"1\" class=\"dataframe\">\n",
              "  <thead>\n",
              "    <tr style=\"text-align: right;\">\n",
              "      <th></th>\n",
              "      <th>wavelength</th>\n",
              "      <th>absorbance</th>\n",
              "    </tr>\n",
              "  </thead>\n",
              "  <tbody>\n",
              "    <tr>\n",
              "      <th>0</th>\n",
              "      <td>1005.0</td>\n",
              "      <td>5.044220e-04</td>\n",
              "    </tr>\n",
              "    <tr>\n",
              "      <th>1</th>\n",
              "      <td>997.0</td>\n",
              "      <td>5.830790e-04</td>\n",
              "    </tr>\n",
              "    <tr>\n",
              "      <th>2</th>\n",
              "      <td>989.0</td>\n",
              "      <td>6.672890e-04</td>\n",
              "    </tr>\n",
              "    <tr>\n",
              "      <th>3</th>\n",
              "      <td>981.0</td>\n",
              "      <td>7.560560e-04</td>\n",
              "    </tr>\n",
              "    <tr>\n",
              "      <th>4</th>\n",
              "      <td>973.0</td>\n",
              "      <td>8.481010e-04</td>\n",
              "    </tr>\n",
              "    <tr>\n",
              "      <th>...</th>\n",
              "      <td>...</td>\n",
              "      <td>...</td>\n",
              "    </tr>\n",
              "    <tr>\n",
              "      <th>403</th>\n",
              "      <td>235.0</td>\n",
              "      <td>3.970000e-07</td>\n",
              "    </tr>\n",
              "    <tr>\n",
              "      <th>404</th>\n",
              "      <td>235.0</td>\n",
              "      <td>2.480000e-07</td>\n",
              "    </tr>\n",
              "    <tr>\n",
              "      <th>405</th>\n",
              "      <td>235.0</td>\n",
              "      <td>1.540000e-07</td>\n",
              "    </tr>\n",
              "    <tr>\n",
              "      <th>406</th>\n",
              "      <td>234.0</td>\n",
              "      <td>9.450000e-08</td>\n",
              "    </tr>\n",
              "    <tr>\n",
              "      <th>407</th>\n",
              "      <td>NaN</td>\n",
              "      <td>NaN</td>\n",
              "    </tr>\n",
              "  </tbody>\n",
              "</table>\n",
              "<p>408 rows × 2 columns</p>\n",
              "</div>\n",
              "      <button class=\"colab-df-convert\" onclick=\"convertToInteractive('df-4dee9787-3001-41fd-a2e6-5c9664dff153')\"\n",
              "              title=\"Convert this dataframe to an interactive table.\"\n",
              "              style=\"display:none;\">\n",
              "        \n",
              "  <svg xmlns=\"http://www.w3.org/2000/svg\" height=\"24px\"viewBox=\"0 0 24 24\"\n",
              "       width=\"24px\">\n",
              "    <path d=\"M0 0h24v24H0V0z\" fill=\"none\"/>\n",
              "    <path d=\"M18.56 5.44l.94 2.06.94-2.06 2.06-.94-2.06-.94-.94-2.06-.94 2.06-2.06.94zm-11 1L8.5 8.5l.94-2.06 2.06-.94-2.06-.94L8.5 2.5l-.94 2.06-2.06.94zm10 10l.94 2.06.94-2.06 2.06-.94-2.06-.94-.94-2.06-.94 2.06-2.06.94z\"/><path d=\"M17.41 7.96l-1.37-1.37c-.4-.4-.92-.59-1.43-.59-.52 0-1.04.2-1.43.59L10.3 9.45l-7.72 7.72c-.78.78-.78 2.05 0 2.83L4 21.41c.39.39.9.59 1.41.59.51 0 1.02-.2 1.41-.59l7.78-7.78 2.81-2.81c.8-.78.8-2.07 0-2.86zM5.41 20L4 18.59l7.72-7.72 1.47 1.35L5.41 20z\"/>\n",
              "  </svg>\n",
              "      </button>\n",
              "      \n",
              "  <style>\n",
              "    .colab-df-container {\n",
              "      display:flex;\n",
              "      flex-wrap:wrap;\n",
              "      gap: 12px;\n",
              "    }\n",
              "\n",
              "    .colab-df-convert {\n",
              "      background-color: #E8F0FE;\n",
              "      border: none;\n",
              "      border-radius: 50%;\n",
              "      cursor: pointer;\n",
              "      display: none;\n",
              "      fill: #1967D2;\n",
              "      height: 32px;\n",
              "      padding: 0 0 0 0;\n",
              "      width: 32px;\n",
              "    }\n",
              "\n",
              "    .colab-df-convert:hover {\n",
              "      background-color: #E2EBFA;\n",
              "      box-shadow: 0px 1px 2px rgba(60, 64, 67, 0.3), 0px 1px 3px 1px rgba(60, 64, 67, 0.15);\n",
              "      fill: #174EA6;\n",
              "    }\n",
              "\n",
              "    [theme=dark] .colab-df-convert {\n",
              "      background-color: #3B4455;\n",
              "      fill: #D2E3FC;\n",
              "    }\n",
              "\n",
              "    [theme=dark] .colab-df-convert:hover {\n",
              "      background-color: #434B5C;\n",
              "      box-shadow: 0px 1px 3px 1px rgba(0, 0, 0, 0.15);\n",
              "      filter: drop-shadow(0px 1px 2px rgba(0, 0, 0, 0.3));\n",
              "      fill: #FFFFFF;\n",
              "    }\n",
              "  </style>\n",
              "\n",
              "      <script>\n",
              "        const buttonEl =\n",
              "          document.querySelector('#df-4dee9787-3001-41fd-a2e6-5c9664dff153 button.colab-df-convert');\n",
              "        buttonEl.style.display =\n",
              "          google.colab.kernel.accessAllowed ? 'block' : 'none';\n",
              "\n",
              "        async function convertToInteractive(key) {\n",
              "          const element = document.querySelector('#df-4dee9787-3001-41fd-a2e6-5c9664dff153');\n",
              "          const dataTable =\n",
              "            await google.colab.kernel.invokeFunction('convertToInteractive',\n",
              "                                                     [key], {});\n",
              "          if (!dataTable) return;\n",
              "\n",
              "          const docLinkHtml = 'Like what you see? Visit the ' +\n",
              "            '<a target=\"_blank\" href=https://colab.research.google.com/notebooks/data_table.ipynb>data table notebook</a>'\n",
              "            + ' to learn more about interactive tables.';\n",
              "          element.innerHTML = '';\n",
              "          dataTable['output_type'] = 'display_data';\n",
              "          await google.colab.output.renderOutput(dataTable, element);\n",
              "          const docLink = document.createElement('div');\n",
              "          docLink.innerHTML = docLinkHtml;\n",
              "          element.appendChild(docLink);\n",
              "        }\n",
              "      </script>\n",
              "    </div>\n",
              "  </div>\n",
              "  "
            ]
          },
          "metadata": {},
          "execution_count": 3
        }
      ],
      "source": [
        "# Use pandas package to read csv file\n",
        "data = pd.read_csv(\"databases_demo/raw_data/uvvis_biphenyl.csv\", header=3, names=['wavelength', 'absorbance'])\n",
        "data"
      ]
    },
    {
      "cell_type": "markdown",
      "metadata": {
        "id": "dtByOqQSeJq3"
      },
      "source": [
        "We can plot the data to get absorption spectrum"
      ]
    },
    {
      "cell_type": "code",
      "execution_count": null,
      "metadata": {
        "colab": {
          "base_uri": "https://localhost:8080/",
          "height": 282
        },
        "id": "4ZmqWSNwdF6x",
        "outputId": "219aee30-6f86-4278-d624-c4073f69b286"
      },
      "outputs": [
        {
          "output_type": "execute_result",
          "data": {
            "text/plain": [
              "[<matplotlib.lines.Line2D at 0x7fb367d6ed10>]"
            ]
          },
          "metadata": {},
          "execution_count": 4
        },
        {
          "output_type": "display_data",
          "data": {
            "text/plain": [
              "<Figure size 432x288 with 1 Axes>"
            ],
            "image/png": "[encoded data removed]"
          },
          "metadata": {
            "needs_background": "light"
          }
        }
      ],
      "source": [
        "import matplotlib.pyplot as plt\n",
        "\n",
        "plt.plot(\"wavelength\",\"absorbance\",data=data)"
      ]
    },
    {
      "cell_type": "markdown",
      "metadata": {
        "id": "1SXSTFclcHko"
      },
      "source": [
        "## STEP 2: Find absorbance peaks wtih the scipy package\n",
        "To process the data, let's use find_peaks function from scipy library. We will get the peaks above absorbance of 0.3. This implies to setting height=0.3 in the code below"
      ]
    },
    {
      "cell_type": "code",
      "execution_count": null,
      "metadata": {
        "id": "17zRDTLpbusB",
        "colab": {
          "base_uri": "https://localhost:8080/"
        },
        "outputId": "49f63767-c5d6-456c-ad98-e1191de3eaf9"
      },
      "outputs": [
        {
          "output_type": "execute_result",
          "data": {
            "text/plain": [
              "array([ 90, 246])"
            ]
          },
          "metadata": {},
          "execution_count": 5
        }
      ],
      "source": [
        "# Use scipy package to find the absorbance peaks\n",
        "peaks, _ = find_peaks(data.absorbance, height=0.3)\n",
        "\n",
        "print(peaks) # Show indexes for the absorbance peaks"
      ]
    },
    {
      "cell_type": "markdown",
      "source": [
        "##STEP 3: Get the wavelength values for each peak"
      ],
      "metadata": {
        "id": "Gq_kyS2TE7Sz"
      }
    },
    {
      "cell_type": "code",
      "source": [
        "# Find the wavelength values the correspond to the absorbance peaks\n",
        "peaks_wavelength = [data.wavelength[p]for p in peaks]\n",
        "\n",
        "# Display wavelength of the extracted peaks\n",
        "peaks_wavelength"
      ],
      "metadata": {
        "colab": {
          "base_uri": "https://localhost:8080/"
        },
        "id": "wMEw_tQ0E6j3",
        "outputId": "e774a4bb-471d-4d89-c3f8-dff4260e62fd"
      },
      "execution_count": null,
      "outputs": [
        {
          "output_type": "execute_result",
          "data": {
            "text/plain": [
              "[581.0, 336.0]"
            ]
          },
          "metadata": {},
          "execution_count": 6
        }
      ]
    },
    {
      "cell_type": "markdown",
      "source": [
        "##STEP 4: Find the peak with the minimum energy (maximum wavelength). \n",
        "Visual inspection of the absorption spectrum above confirms that the code is able to get the peaks. We can also do further analysis with this data. For example, we will get the optical gap in eV."
      ],
      "metadata": {
        "id": "_vmgFRgjfn5W"
      }
    },
    {
      "cell_type": "code",
      "execution_count": null,
      "metadata": {
        "colab": {
          "base_uri": "https://localhost:8080/"
        },
        "id": "L7R7nXqocadx",
        "outputId": "98e4dce8-902c-4728-c88d-f6ec7b326b77"
      },
      "outputs": [
        {
          "output_type": "stream",
          "name": "stdout",
          "text": [
            "2.134\n"
          ]
        }
      ],
      "source": [
        "# Find the first (highest wavelength, lowest energy) value for the absorbance peaks\n",
        "first_peak =  max(peaks_wavelength) # Get minimum energy by finding the maximum wavelength \n",
        "\n",
        "# convert wavelength to eV\n",
        "optical_gap = round(1240 / first_peak, 3)\n",
        "print(optical_gap)"
      ]
    },
    {
      "cell_type": "markdown",
      "source": [
        "##ANOTHER STEP: Adding data to database\n",
        "\n",
        "The code below demonstrates how data is transformed before inserted into the database. This is used in SQL and No-SQL notebooks\n",
        "\n",
        "First we read the data, for instance CSV file, then use to_dict function to process it before final transformation "
      ],
      "metadata": {
        "id": "gwWAwqE3g3iM"
      }
    },
    {
      "cell_type": "code",
      "execution_count": null,
      "metadata": {
        "colab": {
          "base_uri": "https://localhost:8080/"
        },
        "id": "wl7H-pRJqBmV",
        "outputId": "449291c4-2032-44ae-a181-2f8968231e13"
      },
      "outputs": [
        {
          "output_type": "stream",
          "name": "stdout",
          "text": [
            "[{'wavelength': 1005.0, 'absorbance': 0.000504422}, {'wavelength': 997.0, 'absorbance': 0.000583079}, {'wavelength': 989.0, 'absorbance': 0.000667289}, {'wavelength': 981.0, 'absorbance': 0.000756056}, {'wavelength': 973.0, 'absorbance': 0.000848101}, {'wavelength': 966.0, 'absorbance': 0.000941877}, {'wavelength': 958.0, 'absorbance': 0.001035605}, {'wavelength': 951.0, 'absorbance': 0.001127321}, {'wavelength': 944.0, 'absorbance': 0.001214939}, {'wavelength': 937.0, 'absorbance': 0.001296327}]\n"
          ]
        }
      ],
      "source": [
        "# Read data\n",
        "data = pd.read_csv(\"databases_demo/raw_data/uvvis_biphenyl.csv\", header=3, names=['wavelength', 'absorbance'])\n",
        "\n",
        "# Processing \n",
        "absorbance_data = data.to_dict('records')\n",
        "print(absorbance_data[:10]) # Show first 10 absorbance data records"
      ]
    },
    {
      "cell_type": "code",
      "source": [],
      "metadata": {
        "id": "IVV-2W6mFj7H"
      },
      "execution_count": null,
      "outputs": []
    }
  ],
  "metadata": {
    "colab": {
      "collapsed_sections": [],
      "provenance": [],
      "include_colab_link": true
    },
    "kernelspec": {
      "display_name": "Python 3",
      "name": "python3"
    },
    "language_info": {
      "name": "python"
    }
  },
  "nbformat": 4,
  "nbformat_minor": 0
}