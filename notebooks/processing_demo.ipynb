{
  "cells": [
    {
      "cell_type": "markdown",
      "metadata": {
        "id": "view-in-github",
        "colab_type": "text"
      },
      "source": [
        "<a href=\"https://colab.research.google.com/github/D3TaLES/databases_demo/blob/main/notebooks/processing_demo.ipynb\" target=\"_parent\"><img src=\"https://colab.research.google.com/assets/colab-badge.svg\" alt=\"Open In Colab\"/></a>"
      ]
    },
    {
      "cell_type": "markdown",
      "metadata": {
        "id": "HuaJd0BapGdR"
      },
      "source": [
        "# Procesing data with code.\n",
        "\n",
        "In this notebook, we will demonstrate how to process data with python. Automated data processing has a couple advantanges over manual data parsing including reduction in human error and the fact that (after the initial effort of encoding the process) automated procesing can be used repeatedly to get results with no additional effort. As an example, we will process experimental absorption data from a CSV file. \n",
        "\n",
        "We use [pandas](https://pandas.pydata.org/) for handling data and [scipy](https://scipy.org/) for processing spectral data to find peaks and calculate the optical gap. This processing consists of four processing steps shown in the figure below. \n",
        "\n",
        "<img src='https://raw.githubusercontent.com/D3TaLES/databases_demo/main/notebooks/media/parsing.png' width=\"850\" height=\"250\">\n",
        "\n",
        "\n",
        "Note: The packages used here are already installed in colab, so we will only import the packages. In case you do not have the pacakages installed, please install pandas and scipy."
      ]
    },
    {
      "cell_type": "markdown",
      "source": [
        "##STEP 0: Import python packages and get raw data files "
      ],
      "metadata": {
        "id": "vB6Wgbj7EFXW"
      }
    },
    {
      "cell_type": "code",
      "execution_count": null,
      "metadata": {
        "id": "hjisDzzhEQgo"
      },
      "outputs": [],
      "source": [
        "# Import pandas and scipy definitions\n",
        "import pandas as pd  \n",
        "from scipy.signal import find_peaks  "
      ]
    },
    {
      "cell_type": "markdown",
      "metadata": {
        "id": "6ownJHn9Y5Wj"
      },
      "source": [
        "The code below will fetch the sample absorption data files from GitHub"
      ]
    },
    {
      "cell_type": "code",
      "execution_count": null,
      "metadata": {
        "id": "XXwbbuRVp7Cu"
      },
      "outputs": [],
      "source": [
        "# Pull example data files from GitHub\n",
        "! rm -r databases_demo/ # remove database_demo directory if it already exists\n",
        "! git clone https://github.com/D3TaLES/databases_demo.git # get code from GitHub repository "
      ]
    },
    {
      "cell_type": "markdown",
      "metadata": {
        "id": "UpfMGeG1bvuH"
      },
      "source": [
        "## STEP 1: Read spectrometer CSV files with the pandas package\n",
        "For easy handling of data, we will create a pandas DataFrame from the CSV file. Our CSV file is located in databases_demo --> raw_data folder. The following cell will also display the sample data"
      ]
    },
    {
      "cell_type": "code",
      "execution_count": null,
      "metadata": {
        "id": "ghZf83znYn1X"
      },
      "outputs": [],
      "source": [
        "# Use pandas package to read csv file\n",
        "data = pd.read_csv(\"databases_demo/raw_data/uvvis_biphenyl.csv\", header=3, names=['wavelength', 'absorbance'])\n",
        "data"
      ]
    },
    {
      "cell_type": "markdown",
      "metadata": {
        "id": "dtByOqQSeJq3"
      },
      "source": [
        "We can plot the data to get absorption spectrum"
      ]
    },
    {
      "cell_type": "code",
      "execution_count": null,
      "metadata": {
        "id": "4ZmqWSNwdF6x"
      },
      "outputs": [],
      "source": [
        "import matplotlib.pyplot as plt\n",
        "\n",
        "plt.plot(\"wavelength\",\"absorbance\",data=data)"
      ]
    },
    {
      "cell_type": "markdown",
      "metadata": {
        "id": "1SXSTFclcHko"
      },
      "source": [
        "## STEP 2: Find absorbance peaks wtih the scipy package\n",
        "To process the data, let's use find_peaks function from scipy library. We will get the peaks above absorbance of 0.3. This implies to setting height=0.3 in the code below"
      ]
    },
    {
      "cell_type": "code",
      "execution_count": null,
      "metadata": {
        "id": "17zRDTLpbusB"
      },
      "outputs": [],
      "source": [
        "# Use scipy package to find the absorbance peaks\n",
        "peaks, _ = find_peaks(data.absorbance, height=0.3)\n",
        "\n",
        "print(peaks) # Show indexes for the absorbance peaks"
      ]
    },
    {
      "cell_type": "markdown",
      "source": [
        "##STEP 3: Get the wavelength values for each peak"
      ],
      "metadata": {
        "id": "Gq_kyS2TE7Sz"
      }
    },
    {
      "cell_type": "code",
      "source": [
        "# Find the wavelength values the correspond to the absorbance peaks\n",
        "peaks_wavelength = [data.wavelength[p]for p in peaks]\n",
        "\n",
        "# Display wavelength of the extracted peaks\n",
        "peaks_wavelength"
      ],
      "metadata": {
        "id": "wMEw_tQ0E6j3"
      },
      "execution_count": null,
      "outputs": []
    },
    {
      "cell_type": "markdown",
      "source": [
        "##STEP 4: Find the peak with the minimum energy (maximum wavelength). \n",
        "Visual inspection of the absorption spectrum above confirms that the code is able to get the peaks. We can also do further analysis with this data. For example, we will get the optical gap in eV."
      ],
      "metadata": {
        "id": "_vmgFRgjfn5W"
      }
    },
    {
      "cell_type": "code",
      "execution_count": null,
      "metadata": {
        "id": "L7R7nXqocadx"
      },
      "outputs": [],
      "source": [
        "# Find the first (highest wavelength, lowest energy) value for the absorbance peaks\n",
        "first_peak =  max(peaks_wavelength) # Get minimum energy by finding the maximum wavelength \n",
        "\n",
        "# convert wavelength to eV\n",
        "optical_gap = round(1240 / first_peak, 3)\n",
        "print(optical_gap)"
      ]
    },
    {
      "cell_type": "markdown",
      "source": [
        "##ANOTHER STEP: Adding data to database\n",
        "\n",
        "The code below demonstrates how data is transformed before inserted into the database. This is used in [SQL](https://github.com/D3TaLES/databases_demo/blob/main/notebooks/sql_demo.ipynb) and [No-SQL](https://github.com/D3TaLES/databases_demo/blob/main/notebooks/no-sql_demo.ipynb) notebooks\n",
        "\n",
        "First we read the data, for instance CSV file, then use to_dict function to process it before final transformation "
      ],
      "metadata": {
        "id": "gwWAwqE3g3iM"
      }
    },
    {
      "cell_type": "code",
      "execution_count": null,
      "metadata": {
        "id": "wl7H-pRJqBmV"
      },
      "outputs": [],
      "source": [
        "# Read data\n",
        "data = pd.read_csv(\"databases_demo/raw_data/uvvis_biphenyl.csv\", header=3, names=['wavelength', 'absorbance'])\n",
        "\n",
        "# Processing \n",
        "absorbance_data = data.to_dict('records')\n",
        "print(absorbance_data[:10]) # Show first 10 absorbance data records"
      ]
    },
    {
      "cell_type": "code",
      "source": [],
      "metadata": {
        "id": "IVV-2W6mFj7H"
      },
      "execution_count": null,
      "outputs": []
    }
  ],
  "metadata": {
    "colab": {
      "collapsed_sections": [],
      "provenance": [],
      "include_colab_link": true
    },
    "kernelspec": {
      "display_name": "Python 3",
      "name": "python3"
    },
    "language_info": {
      "name": "python"
    }
  },
  "nbformat": 4,
  "nbformat_minor": 0
}