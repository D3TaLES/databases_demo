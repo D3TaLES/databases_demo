{
  "cells": [
    {
      "cell_type": "markdown",
      "metadata": {
        "id": "view-in-github",
        "colab_type": "text"
      },
      "source": [
        "<a href=\"https://colab.research.google.com/github/D3TaLES/databases_demo/blob/main/notebooks/sql_demo.ipynb\" target=\"_parent\"><img src=\"https://colab.research.google.com/assets/colab-badge.svg\" alt=\"Open In Colab\"/></a>"
      ]
    },
    {
      "cell_type": "markdown",
      "source": [
        "**To view this demonstration, simply click the play button beside each code cell to run the cell. Note that these cells should be run in order. It is also recomended that this notebook is run in Colab.**"
      ],
      "metadata": {
        "id": "vHSkFq29Fvem"
      }
    },
    {
      "cell_type": "markdown",
      "source": [
        "# Demonstration of an SQL Database\n",
        "In this notebook, we demonstrate a SQL database. The SQL database structure is the original data management structure. It contains collections of two-dimensional tables, akin to collections of spreadsheets pages. The table rows are data records, and columns are attributes. Each attribute (column) can contain only a single numerical or text value for each record (row). When a data record has an embedded attribute, an SQL database uses multiple tables. For example, a molecule may contain the attribute `UVVis_Data`; however, `UVVis_Data` contains embedded attributes such as Instrument_Name and Optical_Gap. To accommodate these data, the first table contains the molecule record with its primary key and its regular attributes, while another table contains `UVVis_Data` and its attributes. Each record in `UVVis_Data` connects to the molecules table with a table-joining column. This column contains a molecule primary key. \n",
        "\n",
        "**Note**: This schema is not a complete picture of the schema for the data in this notebook; it is only a partial schema. \n",
        "\n",
        "<img src='https://raw.githubusercontent.com/D3TaLES/databases_demo/main/notebooks/media/sql_structure.png' width=\"950\" height=\"300\">\n",
        "\n",
        "After first initializing the database, we generate example data that abide by the SQL schema. We then insert experimental data into the database for various moelcules of varying data types (computational and experimental). Finally, we give examples databaes queries and show how to easily plot queried data.\n"
      ],
      "metadata": {
        "id": "nzvUW2SQj24D"
      }
    },
    {
      "cell_type": "markdown",
      "metadata": {
        "id": "xBhnn-CGn62-"
      },
      "source": [
        "## Install and Import Needed Code\n",
        "\n",
        "Here we use `pip install` to install several packages for use in this notebook. We also pull the file processing code and the example data files from our [GitHub repoisitory](https://github.com/D3TaLES/databases_demo/). Then we import the packages so they can be used.  \n",
        "\n",
        "Note: Colab normally has [pandas](https://pandas.pydata.org/), [numpy](https://numpy.org/), [matplotlib](https://matplotlib.org/), [scipy](https://scipy.org/), and [sqlite3](https://www.sqlite.org/index.html) pre-installed. If you do not have these packages installed, you will need to install them. "
      ]
    },
    {
      "cell_type": "code",
      "execution_count": null,
      "metadata": {
        "id": "j7VaSLbIFmZ4"
      },
      "outputs": [],
      "source": [
        "%%capture\n",
        "! pip install pymatgen  # Install Pymatgen for Gaussian file parsing \n",
        "! pip install pubchempy  # Install PubChem python API for moleucle information\n",
        "! pip install rdkit-pypi  # Install RdKit for molecule transformations\n",
        "! pip install qcfractal # Install QCFractal for SQL schema\n",
        "! pip install sqlalchemy==1.3.* # Install SQLAlchemy for SQL database "
      ]
    },
    {
      "cell_type": "code",
      "execution_count": null,
      "metadata": {
        "id": "miN41ShFFnD1"
      },
      "outputs": [],
      "source": [
        "! rm -r databases_demo/ # Remove database_demo directory if it already exists\n",
        "! git clone https://github.com/D3TaLES/databases_demo.git # Get Processing code from GitHub"
      ]
    },
    {
      "cell_type": "code",
      "execution_count": null,
      "metadata": {
        "id": "hjisDzzhEQgo"
      },
      "outputs": [],
      "source": [
        "# Import required packages (many of which you just installed)\n",
        "import sqlite3\n",
        "import datetime\n",
        "import pandas as pd\n",
        "import matplotlib.pyplot as plt\n",
        "from sqlalchemy import create_engine\n",
        "from sqlalchemy.orm import sessionmaker\n",
        "from sqlalchemy.sql.schema import MetaData\n",
        "from databases_demo.file_parser import *\n",
        "from databases_demo.schema.sql_schema import *"
      ]
    },
    {
      "cell_type": "markdown",
      "metadata": {
        "id": "LEHdeI02n-ku"
      },
      "source": [
        "## 1. Initialize the database \n",
        "Here we initalize a [SQLite](https://www.sqlite.org/index.html) SQL database by first connecting to the dabase session engine and starting a session. Then we create a series of database tables (`Molecules`, `DftData`, `Synonyms`, `UvVisData`, and `AbsorbanceData`). Each table corresponds to a table defined in the [SQL schema](https://github.com/D3TaLES/databases_demo/blob/main/schema/sql_schema.py) for this example notebook. "
      ]
    },
    {
      "cell_type": "code",
      "execution_count": null,
      "metadata": {
        "id": "ZwuBTEmzIcw4"
      },
      "outputs": [],
      "source": [
        "# Connect to the database\n",
        "engine = create_engine('sqlite:///sample.db') \n",
        "Session = sessionmaker(bind=engine)\n",
        "session = Session()\n",
        "\n",
        "# Create tables\n",
        "MetaData(bind=engine).create_all(tables=[\n",
        "                                         Molecules.__table__,\n",
        "                                         DftData.__table__,\n",
        "                                         Synonyms.__table__, \n",
        "                                         UvVisData.__table__,\n",
        "                                         AbsorbanceData.__table__\n",
        "                                         ])"
      ]
    },
    {
      "cell_type": "markdown",
      "metadata": {
        "id": "srjgPDzZoF05"
      },
      "source": [
        "## 2. Load Schema and use it to validate example data\n",
        "\n",
        "Here we begin the Extract, Transform, and Load (ETL) process to insert data into our newly created database. In this step we complete the extraction and transformation. (In step 3, we will load.) \n",
        "\n",
        "<img src='https://raw.githubusercontent.com/D3TaLES/databases_demo/main/notebooks/media/etl.png' width=\"800\" height=\"300\">\n",
        "\n",
        "We must first generate general molecular information about our molecule, in this case biphenyl. We use the `GenerateMolInfo` module defined in our [processing code](https://github.com/D3TaLES/databases_demo/blob/main/file_parser.py). This module both generates (or extracts) general moleucle information for biphenyl and transforms it to our defined schema. Then we use the same process to generate synnonym data for biphenyl. "
      ]
    },
    {
      "cell_type": "code",
      "execution_count": null,
      "metadata": {
        "id": "Z6BLvXfvn_c0"
      },
      "outputs": [],
      "source": [
        "# EXTRACT/generate basic data for biphenyl and TRANSFORM to schema\n",
        "data_generation = GenerateMolInfo(smiles=\"C1=C(c2ccccc2)CCCC1\", source='our_lab', names=['biphenyl'])\n",
        "mol_data = data_generation.data\n",
        "# Get the generated primary key for biphenyl\n",
        "bp_id = mol_data.get('mol_id')\n",
        "\n",
        "mol_data # Show data"
      ]
    },
    {
      "cell_type": "code",
      "execution_count": null,
      "metadata": {
        "id": "kS_zMlFTGTUA"
      },
      "outputs": [],
      "source": [
        "# Get synonym data \n",
        "synonym_rawdata = data_generation.synonym_data\n",
        "# Convert each synonym table row into a validated object\n",
        "synonym_data = [Synonyms(**data) for data in synonym_rawdata] \n",
        "\n",
        "synonym_rawdata[:5] # Show (first 5 pieces of) data"
      ]
    },
    {
      "cell_type": "markdown",
      "metadata": {
        "id": "AEwTviiroGyr"
      },
      "source": [
        "## 3. Insert validated data ino the database\n",
        "In this section, coplete the final step of the ETL process by loading generated data (from section 2) into the database. This includes adding data to the `Molecules` table and the `Synonyms` table seperately. We also must commit the data after we add it. \n",
        "\n",
        "Then, we repeat the entire ETL process for three additional moleucles. And finally, we complete the ETL process for different types of data, namely, computaitonal data and experimental UV-Vis data. Inserting computation/experimental data into the database requires both raw data files and more complex file parsing. Here we use [these raw data files](https://github.com/D3TaLES/databases_demo/tree/main/raw_data), and the parsing is performed by the `ProcessDFT` and `ProcessUvVis` modules defined in our [processing code](https://github.com/D3TaLES/databases_demo/blob/main/file_parser.py). Basic processing demonstrations that reflect the parsing done in these emodules can be found [in this Colab notebook](https://github.com/D3TaLES/databases_demo/blob/main/notebooks/processing_demo.ipynb)."
      ]
    },
    {
      "cell_type": "code",
      "execution_count": null,
      "metadata": {
        "id": "8ZfzR4JKoGnZ"
      },
      "outputs": [],
      "source": [
        "# LOAD single molecule object to the Molecules table\n",
        "session.add(Molecules(**mol_data))\n",
        "session.commit()\n",
        "\n",
        "# LOAD multiple synonym objects to the Synonym table\n",
        "session.bulk_save_objects(synonym_data) \n",
        "session.commit()\n"
      ]
    },
    {
      "cell_type": "markdown",
      "metadata": {
        "id": "szRgZ1YGtMEb"
      },
      "source": [
        "### ETL for different molecules"
      ]
    },
    {
      "cell_type": "markdown",
      "source": [
        "Here we loop through a dictionary of molecule names and their SMILES strings, and for each, we generate general molecule data and insert the data to the database. "
      ],
      "metadata": {
        "id": "r8uU-5ya3Nzm"
      }
    },
    {
      "cell_type": "code",
      "execution_count": null,
      "metadata": {
        "id": "VXlE9aMToMVj"
      },
      "outputs": [],
      "source": [
        "# ETL for Benzene, Nitrobenzene, and Anthracene\n",
        "extra_mols = {'benzene': \"C1=CC=CC=C1\", 'nitrobenzene': \"C1=CC=C(C=C1)[N+](=O)[O-]\", 'anthracene': \"C1=CC=C2C=C3C=CC=CC3=CC2=C1\"}\n",
        "extra_mol_ids = {}\n",
        "for name, smiles in extra_mols.items(): \n",
        "  # Extract and transform\n",
        "  mol_data = GenerateMolInfo(smiles, source='our_lab', names=[name]).data\n",
        "  # Load\n",
        "  session.add(Molecules(**mol_data))\n",
        "  session.commit()\n",
        "\n",
        "  # Record moleucle id\n",
        "  extra_mol_ids[name] = mol_data.get('mol_id')\n"
      ]
    },
    {
      "cell_type": "markdown",
      "metadata": {
        "id": "3XwpcFK8oMn9"
      },
      "source": [
        "### ETL for different types of data"
      ]
    },
    {
      "cell_type": "markdown",
      "source": [
        "Here we extract and transform computational data from a Gaussian DFT [log file](https://github.com/D3TaLES/databases_demo/tree/main/raw_data/tddft_biphenyl.log), then load the data to the `DftData` database table."
      ],
      "metadata": {
        "id": "4x3dn8vY9Vkq"
      }
    },
    {
      "cell_type": "code",
      "source": [
        "# EXTRACT and TRANSFORM Gaussian DFT data\n",
        "gaussian_data = ProcessDFT('databases_demo/raw_data/tddft_biphenyl.log', mol_id=bp_id).data\n",
        "\n",
        "# LOAD DFT data into database\n",
        "session.add(DftData(**gaussian_data))\n",
        "session.commit()"
      ],
      "metadata": {
        "id": "-SyGDhel0Cj0"
      },
      "execution_count": null,
      "outputs": []
    },
    {
      "cell_type": "markdown",
      "source": [
        "Here we extract and transform experimental UV-Vis data from a UV-Vis [output CSV file](https://github.com/D3TaLES/databases_demo/tree/main/raw_data/uvvis_biphenyl.csv), then load the data to the database tables. A demonstration of the parsing done here can be found [in this Colab notebook](https://github.com/D3TaLES/databases_demo/blob/main/notebooks/processing_demo.ipynb). Note that general information about the UV-Vis experiment goes into the `UvVisData` table, while the absorbance data goes into the `AbsorbanceData` table. "
      ],
      "metadata": {
        "id": "GsVhGVZl-LP7"
      }
    },
    {
      "cell_type": "code",
      "source": [
        "# Insert UV-Vis data\n",
        "uvvis_data = ProcessUvVis('databases_demo/raw_data/uvvis_biphenyl.csv', mol_id=bp_id).data\n",
        "# Insert UV-Vis data into database\n",
        "session.add(UvVisData(**uvvis_data))\n",
        "session.commit()\n",
        "\n",
        "absorbance_rawdata = ProcessUvVis('databases_demo/raw_data/uvvis_biphenyl.csv', mol_id=bp_id).absorbance_data\n",
        "# Convert each absorbance table row into a validated object\n",
        "absorbance_data = [AbsorbanceData(**data) for data in absorbance_rawdata] \n",
        "# Insert Absorbance data into database\n",
        "session.bulk_save_objects(absorbance_data) \n",
        "session.commit()"
      ],
      "metadata": {
        "id": "_OhJYex90DES"
      },
      "execution_count": null,
      "outputs": []
    },
    {
      "cell_type": "markdown",
      "source": [
        "Here we loop through a dictionary of molecule names and their SMILES strings, and for each, we generate computational and experimental data and insert the data to the database tables."
      ],
      "metadata": {
        "id": "z6515CYq-Eh0"
      }
    },
    {
      "cell_type": "code",
      "source": [
        "# Insert DFT and UV-Vis data for other molecules \n",
        "\n",
        "for name, mol_id in extra_mol_ids.items(): \n",
        "  # Extract and transform data\n",
        "  gaussian_data = ProcessDFT('databases_demo/raw_data/tddft_'+name+'.log', mol_id=mol_id).data\n",
        "  uvvis_data = ProcessUvVis('databases_demo/raw_data/uvvis_'+name+'.csv', mol_id=mol_id).data\n",
        "  absorbance_rawdata = ProcessUvVis('databases_demo/raw_data/uvvis_'+name+'.csv', mol_id=mol_id).absorbance_data\n",
        "  absorbance_data = [AbsorbanceData(**data) for data in absorbance_rawdata] \n",
        "  # Load data\n",
        "  session.add(DftData(**gaussian_data))\n",
        "  session.add(UvVisData(**uvvis_data))\n",
        "  session.bulk_save_objects(absorbance_data) \n",
        "  # Commit insertions\n",
        "  session.commit()"
      ],
      "metadata": {
        "id": "BTZN8Tix7qgs"
      },
      "execution_count": null,
      "outputs": []
    },
    {
      "cell_type": "markdown",
      "metadata": {
        "id": "m6bxYAtuoLt9"
      },
      "source": [
        "## 4. Query the database"
      ]
    },
    {
      "cell_type": "markdown",
      "source": [
        "### Basic Queries\n",
        "\n",
        "Here we demonstrate basic database queries and basic data plotting using [pandas](https://pandas.pydata.org/) and [matplotlib](https://matplotlib.org/). A basic query contains two parts: selection and projection. The selection portion filters the data record(s) (rows for SQL) that will be returned. The projection specifies the record attribute(s) (columns for SQL) that will be shown. For example, imagine a researcher wants to know the SMILES strings for all molecules in a database that have a molecular weight more than 100 g/mol. The selection would stipulate only data records with a molecular weight greater than 100 g/mol, while the projection would specify the return of the SMILES attribute. Alternatively, the researcher might like to list the lowest-lying excited state energy for every molecule or find and count all molecules with more than ten atoms. Basic queries like this are quick and easy in both SQL and No-SQL databases, even when tens of thousands of molecules are present. \n",
        "\n",
        "\n",
        "<img src='https://raw.githubusercontent.com/D3TaLES/databases_demo/main/notebooks/media/queries.png' width=\"700\" height=\"500\">"
      ],
      "metadata": {
        "id": "fxMz6hs00oRg"
      }
    },
    {
      "cell_type": "code",
      "execution_count": null,
      "metadata": {
        "id": "Q_53RgLfoLgn"
      },
      "outputs": [],
      "source": [
        "# View Molecules data table\n",
        "pd.read_sql(\"molecules\", engine.connect())"
      ]
    },
    {
      "cell_type": "code",
      "source": [
        "# View UV-Vis data table\n",
        "pd.read_sql(\"uvvis_data\", engine.connect())"
      ],
      "metadata": {
        "id": "jw7IbdXPAHgE"
      },
      "execution_count": null,
      "outputs": []
    },
    {
      "cell_type": "code",
      "source": [
        "# View DFT data table\n",
        "pd.read_sql(\"dft_data\", engine.connect())"
      ],
      "metadata": {
        "id": "8W8rJ-rhFx30"
      },
      "execution_count": null,
      "outputs": []
    },
    {
      "cell_type": "code",
      "execution_count": null,
      "metadata": {
        "id": "Wcl_dSUViLZS"
      },
      "outputs": [],
      "source": [
        "# Count the number of molecules in the database\n",
        "pd.read_sql(\"SELECT COUNT(*) FROM molecules;\", engine.connect())"
      ]
    },
    {
      "cell_type": "code",
      "source": [
        "# Get molecules with more than 10 atoms\n",
        "pd.read_sql(\"SELECT * FROM molecules WHERE number_of_atoms > 10;\", engine.connect())"
      ],
      "metadata": {
        "id": "lonbOmZ3xpEe"
      },
      "execution_count": null,
      "outputs": []
    },
    {
      "cell_type": "code",
      "source": [
        "# Get molecules with more than 10 atoms, showing only molecule IDs\n",
        "pd.read_sql(\"SELECT * FROM molecules AS mols WHERE number_of_atoms > 10;\", engine.connect())"
      ],
      "metadata": {
        "id": "J2PxUix_xpB2"
      },
      "execution_count": null,
      "outputs": []
    },
    {
      "cell_type": "code",
      "source": [
        "# Get all the SMILES string in the molecules database where the molecular weight is greater than 100 \n",
        "pd.read_sql(\"SELECT smiles FROM molecules WHERE molecular_weight > 100;\", engine.connect())"
      ],
      "metadata": {
        "id": "4pE49Ygnxo-j"
      },
      "execution_count": null,
      "outputs": []
    },
    {
      "cell_type": "code",
      "source": [
        "# Search for all singlet excitation energy values in the database\n",
        "pd.read_sql(\"SELECT mols.mol_id, mols.smiles, dft.first_excitation FROM dft_data AS dft INNER JOIN molecules AS mols ON (dft.mol_id=mols.mol_id);\", engine.connect())\n",
        "\n",
        "# Technically this query could work too (though it wouldn't give smiles), but it wouldn't demonstrate how to perform a table join \n",
        "# pd.read_sql(\"SELECT mol_id, first_excitation FROM dft_data;\", engine.connect())"
      ],
      "metadata": {
        "id": "k-s21G7qxo7-"
      },
      "execution_count": null,
      "outputs": []
    },
    {
      "cell_type": "markdown",
      "source": [
        "### Plotting\n",
        "Here we demonstrate the data analysis examples from the paper: (1) Comparing computationally-estimated singlet excitation and experimentally-measured optical gap and (2) plotting spectrum only when the singlet excitation energy is greater than 4 eV."
      ],
      "metadata": {
        "id": "AIZ918r0ANEp"
      }
    },
    {
      "cell_type": "code",
      "source": [
        "# Get the absorption spectrum data for cyclohexen-eylbenzene\n",
        "query = pd.read_sql(\"SELECT wavelength, absorbance FROM absorbance_data WHERE mol_id LIKE 'cyclohexen-1-ylbenzene';\", engine.connect())\n",
        "# Plot data\n",
        "query.plot(x='wavelength', y='absorbance')"
      ],
      "metadata": {
        "id": "zn5vQDtNz25B"
      },
      "execution_count": null,
      "outputs": []
    },
    {
      "cell_type": "markdown",
      "source": [
        "#### EXAMPLE 1: Comparing computationally-estimated singlet excitation and experimentally-measured optical gap\n",
        "\n",
        "<img src='https://raw.githubusercontent.com/D3TaLES/databases_demo/main/notebooks/media/ex1.png' width=\"400\" height=\"550\">\n",
        "\n",
        "\n"
      ],
      "metadata": {
        "id": "Caz9ZhBWfx4h"
      }
    },
    {
      "cell_type": "code",
      "source": [
        "# Gather data\n",
        "query = pd.read_sql(\"\"\" \n",
        "  SELECT uvv.mol_id, uvv.optical_gap, dft.first_excitation \n",
        "  FROM dft_data AS dft INNER JOIN uvvis_data AS uvv \n",
        "  ON (dft.mol_id=uvv.mol_id);\n",
        "\"\"\", engine.connect())\n",
        "query"
      ],
      "metadata": {
        "id": "TOstRH_5fyne"
      },
      "execution_count": null,
      "outputs": []
    },
    {
      "cell_type": "code",
      "source": [
        "# Plot data\n",
        "fig, ax = plt.subplots(figsize=(4,3))\n",
        "\n",
        "for i, mol in query.iterrows(): \n",
        "  plt.scatter(mol.optical_gap, mol.first_excitation, label=mol.mol_id)\n",
        "\n",
        "# Add plot details \n",
        "plt.legend()\n",
        "plt.xlabel('Optical Gap (eV)')\n",
        "plt.ylabel('Singlet Excitation Energy (eV)')\n",
        "plt.tight_layout()\n",
        "plt.savefig('plot1.png', dpi=300)"
      ],
      "metadata": {
        "id": "af9dIjb5iJuw"
      },
      "execution_count": null,
      "outputs": []
    },
    {
      "cell_type": "markdown",
      "source": [
        "#### EXAMPLE 2: Plotting spectrum only when the singlet excitation energy is greater than 4 eV\n",
        "\n",
        "<img src='https://raw.githubusercontent.com/D3TaLES/databases_demo/main/notebooks/media/ex2.png' width=\"400\" height=\"550\">"
      ],
      "metadata": {
        "id": "NVIXbFUEAOgY"
      }
    },
    {
      "cell_type": "code",
      "source": [
        "# Search for all singlet excitation values in the database\n",
        "pd.read_sql(\"SELECT first_excitation FROM dft_data;\", engine.connect())"
      ],
      "metadata": {
        "id": "fSZdCy5FBKRD"
      },
      "execution_count": null,
      "outputs": []
    },
    {
      "cell_type": "code",
      "source": [
        "# Get the molecules wtih a single excitation greater than 4\n",
        "molecules = pd.read_sql(\"SELECT mol_id from dft_data WHERE first_excitation > 4;\", engine.connect())\n",
        "\n",
        "# Plot absorption spectra for the molecules queried \n",
        "fig, ax = plt.subplots(figsize=(4.2,3))\n",
        "for mol in molecules.mol_id: \n",
        "  query = pd.read_sql(f\"SELECT wavelength, absorbance FROM absorbance_data WHERE mol_id LIKE '{mol}';\", engine.connect())\n",
        "  ax.plot(query.wavelength, query.absorbance, label=mol)\n",
        "\n",
        "# Add details \n",
        "plt.legend()\n",
        "plt.xlabel('Wavelength (nm)')\n",
        "plt.ylabel('Absorption')\n",
        "plt.tight_layout()\n",
        "plt.savefig('plot2.png', dpi=300)"
      ],
      "metadata": {
        "id": "DbgYPKK7AQtY"
      },
      "execution_count": null,
      "outputs": []
    },
    {
      "cell_type": "markdown",
      "source": [
        "# !!! Reset Database !!!\n",
        "Warning! Running the following cell will delete the databases you have constructred with the previous cells. To continue exploring this code after running this cell, you must rerun all cells starting with the `1. Initialize Database` step. "
      ],
      "metadata": {
        "id": "nu5c7bsx_6mR"
      }
    },
    {
      "cell_type": "code",
      "source": [
        "# Clean all tables! \n",
        "MetaData(bind=engine).drop_all(tables=[\n",
        "                                         Molecules.__table__,\n",
        "                                         DftData.__table__,\n",
        "                                         Synonyms.__table__, \n",
        "                                         UvVisData.__table__,\n",
        "                                         AbsorbanceData.__table__\n",
        "                                         ])"
      ],
      "metadata": {
        "id": "xjT17pLj9Saq"
      },
      "execution_count": null,
      "outputs": []
    }
  ],
  "metadata": {
    "colab": {
      "collapsed_sections": [],
      "provenance": [],
      "private_outputs": true,
      "include_colab_link": true
    },
    "kernelspec": {
      "display_name": "Python 3",
      "name": "python3"
    },
    "language_info": {
      "name": "python"
    },
    "gpuClass": "standard"
  },
  "nbformat": 4,
  "nbformat_minor": 0
}