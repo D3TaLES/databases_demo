{
  "cells": [
    {
      "cell_type": "markdown",
      "metadata": {
        "id": "view-in-github",
        "colab_type": "text"
      },
      "source": [
        "<a href=\"https://colab.research.google.com/github/D3TaLES/databases_demo/blob/main/notebooks/no_sql_notebook.ipynb\" target=\"_parent\"><img src=\"https://colab.research.google.com/assets/colab-badge.svg\" alt=\"Open In Colab\"/></a>"
      ]
    },
    {
      "cell_type": "markdown",
      "source": [
        "**To view this demonstration, simply click the play button beside each code cell to run the cell. Note that these cells should be run in order. It is also recomended that this notebook is run in Colab.**"
      ],
      "metadata": {
        "id": "c0uOpqMeGZok"
      }
    },
    {
      "cell_type": "markdown",
      "source": [
        "# Demonstration of a No-SQL Database\n",
        "In this notebook, we demonstrate a No-SQL database. No-SQL structures contain one or more collections of records (called a document in many types of No-SQL). Within a collection, all documents share a schema. Schemas have a tree-branch structure. Each document contains a series of attributes (branches in the tree), each of which may contain a value or list. An attribute may also contain embedded attributes, e.g., smaller branches off the main branch. The figure below shows the nested nature of a No-SQL schema for example `UVVis_Data`. In this schema, each document corresponds to a molecule with attributes such as `smiles` and `molecular_weight`. Some attributes such as `uvvis_data` are nested. Accordingly 'uvvis_data' has sub-attributes such as `absorbance_data` and `optical_gap`. \n",
        "\n",
        "**Note**: This schema is not a complete picture of the schema for the data in this notebook; it is only a partial schema. \n",
        "\n",
        "<img src='https://drive.google.com/uc?export=view&id=1UzghTXD3Kjh5brw_Zk-Pdol8kRUfwdcW' width=\"800\" height=\"300\">\n",
        "\n",
        "After first initializing the database, we load the No-SQL schema and show how it can validate experimental data. We then insert validated data into the database for various moelcules of varying data types (computational and experimental). Finally, we give examples database queries and show how to easily plot queried data. "
      ],
      "metadata": {
        "id": "B-adrHoWdXMm"
      }
    },
    {
      "cell_type": "markdown",
      "metadata": {
        "id": "rNzFNLUkc9J5"
      },
      "source": [
        "## Install and Import Needed Code\n",
        "\n",
        "Here we use `apt install` and `pip install` to install several packages for use in this notebook. We also pull the file processing code and the example data files from our [GitHub repoisitory](https://github.com/D3TaLES/databases_demo/). Then we import the packages so they can be used. \n",
        "\n",
        "**This may take a few minutes.**\n",
        "\n",
        "**Note**: Colab normally has [pandas](https://pandas.pydata.org/), [numpy](https://numpy.org/), [matplotlib](https://matplotlib.org/), [scipy](https://scipy.org/), and [jsonschema](https://json-schema.org/) pre-installed. If you do not have these packages installed, you will need to install them. "
      ]
    },
    {
      "cell_type": "code",
      "execution_count": null,
      "metadata": {
        "id": "j7VaSLbIFmZ4"
      },
      "outputs": [],
      "source": [
        "%%capture\n",
        "! apt install mongodb > log  # Install the No-SQL database arcitecture MongoDB \n",
        "! service mongodb start  # Start MongoDB\n",
        "! pip install pymatgen  # Install Pymatgen for Gaussian file parsing \n",
        "! pip install pubchempy  # Install PubChem python API for moleucle information\n",
        "! pip install rdkit-pypi  # Install RdKit for molecule transformations"
      ]
    },
    {
      "cell_type": "code",
      "execution_count": null,
      "metadata": {
        "id": "miN41ShFFnD1"
      },
      "outputs": [],
      "source": [
        "! rm -r databases_demo/ # Remove database_demo directory if it already exists\n",
        "! git clone https://github.com/D3TaLES/databases_demo.git # Get Processing code from GitHub"
      ]
    },
    {
      "cell_type": "code",
      "execution_count": null,
      "metadata": {
        "id": "hjisDzzhEQgo"
      },
      "outputs": [],
      "source": [
        "# Import required packages (many of which you just installed)\n",
        "import pandas as pd\n",
        "import numpy as np\n",
        "import matplotlib.pyplot as plt\n",
        "from pymongo import MongoClient\n",
        "from jsonschema import validate\n",
        "from databases_demo.file_parser import *"
      ]
    },
    {
      "cell_type": "markdown",
      "metadata": {
        "id": "FcT34flZm6-F"
      },
      "source": [
        "## 1. Initialize the database \n",
        "Here we initalize a [MongoDB](https://www.mongodb.com/) database, which is a document-based No-SQL database. This involves connecting to the MongoDB client, then initialize a database called `test_db`. "
      ]
    },
    {
      "cell_type": "code",
      "execution_count": null,
      "metadata": {
        "id": "QOLDTgc_ERcT"
      },
      "outputs": [],
      "source": [
        "# Create database\n",
        "client = MongoClient()\n",
        "db = client['test_db']"
      ]
    },
    {
      "cell_type": "markdown",
      "metadata": {
        "id": "KUHe0pc3nDw9"
      },
      "source": [
        "## 2. Load Schema and use it to validate example data\n",
        "Here we begin the Extract, Transform, and Load (ETL) process to insert data into our newly created database. In this step we complete the extraction and transformation. (In step 3, we will load.) \n",
        "\n",
        "<img src='https://drive.google.com/uc?export=view&id=1pp7NHtPk7n4lTwGlb6MiXdgB0nPtwUNA' width=\"800\" height=\"300\">\n",
        "\n",
        "We must first generate general molecular information about our molecule, in this case biphenyl. We use the `GenerateMolInfo` module defined in our [processing code](https://github.com/D3TaLES/databases_demo/blob/main/file_parser.py). This module both generates (or extracts) general moleucle information for biphenyl and transforms it to our defined schema. Next we use [jsonschema](https://json-schema.org/) and our No-SQL schema to validate the data. Then we use the same process to generate synnonym data for biphenyl."
      ]
    },
    {
      "cell_type": "code",
      "execution_count": null,
      "metadata": {
        "id": "le8F_lEBEZR4"
      },
      "outputs": [],
      "source": [
        "# EXTRACT/generate basic data for biphenyl and TRANSFORM to schema\n",
        "mol_data = GenerateMolInfo(smiles=\"C1=C(c2ccccc2)CCCC1\", source='our_lab', names=['biphenyl'], sql=False).data\n",
        "# Get the generated primary key for biphenyl\n",
        "bp_id = mol_data.get('_id')"
      ]
    },
    {
      "cell_type": "code",
      "execution_count": null,
      "metadata": {
        "id": "i9NTVweGEdv3"
      },
      "outputs": [],
      "source": [
        "# Get Schema by extracting schema from schema file\n",
        "with open('databases_demo/schema/no-sql_schema.json') as fn:\n",
        "    schema = json.load(fn)\n",
        "# Validate data\n",
        "validate(instance=mol_data, schema=schema)"
      ]
    },
    {
      "cell_type": "code",
      "source": [
        "mol_data"
      ],
      "metadata": {
        "id": "0X-uue7b6Fwr"
      },
      "execution_count": null,
      "outputs": []
    },
    {
      "cell_type": "markdown",
      "metadata": {
        "id": "l1BclhQvnNxh"
      },
      "source": [
        "## 3. Insert validated data ino the database\n",
        "In this section, coplete the final step of the ETL process by loading generated data (from section 2) into the database. This includes adding data to the `Molecules` table and the `Synonyms` table seperately. We also must commit the data after we add it. \n",
        "\n",
        "Then, we repeat the entire ETL process for three additional moleucles. And finally, we complete the ETL process for different types of data, namely, computaitonal data and experimental UV-Vis data. Inserting computation/experimental data into the database requires both raw data files and more complex file parsing. Here we use [these raw data files](https://github.com/D3TaLES/databases_demo/tree/main/raw_data), and the parsing is performed by the `ProcessDFT` and `ProcessUvVis` modules defined in our [processing code](https://github.com/D3TaLES/databases_demo/blob/main/file_parser.py). Basic processing demonstrations that reflect the parsing done in these emodules can be found [in this Colab notebook](https://github.com/D3TaLES/databases_demo/blob/main/notebooks/processing_notebook.ipynb)."
      ]
    },
    {
      "cell_type": "code",
      "execution_count": null,
      "metadata": {
        "id": "3un7tWnjnNjD"
      },
      "outputs": [],
      "source": [
        "# LOAD molecule into database\n",
        "db[\"molecules\"].insert_one(mol_data)"
      ]
    },
    {
      "cell_type": "markdown",
      "metadata": {
        "id": "MDC6kF2vsSXF"
      },
      "source": [
        "### ETL for different molecules"
      ]
    },
    {
      "cell_type": "markdown",
      "source": [
        "Here we loop through a dictionary of molecule names and their SMILES strings, and for each, we generate general molecule data, validate the data, and insert them to the database. "
      ],
      "metadata": {
        "id": "9bXc4ZwC3Acw"
      }
    },
    {
      "cell_type": "code",
      "execution_count": null,
      "metadata": {
        "id": "v52V_P10sW-9"
      },
      "outputs": [],
      "source": [
        "# ETL for Benzene, Nitrobenzene, and Anthracene\n",
        "extra_mols = {'benzene': \"C1=CC=CC=C1\", 'nitrobenzene': \"C1=CC=C(C=C1)[N+](=O)[O-]\", 'anthracene': \"C1=CC=C2C=C3C=CC=CC3=CC2=C1\"}\n",
        "extra_mol_ids = {}\n",
        "for name, smiles in extra_mols.items():\n",
        "  # Extract and transform \n",
        "  mol_data = GenerateMolInfo(smiles, source='our_lab', names=[name], sql=False).data\n",
        "  validate(instance=mol_data, schema=schema)\n",
        "  # Load\n",
        "  db[\"molecules\"].insert_one(mol_data)\n",
        "\n",
        "  # Record moleucle id\n",
        "  extra_mol_ids[name] = mol_data.get('_id')\n"
      ]
    },
    {
      "cell_type": "markdown",
      "metadata": {
        "id": "HVLzwhwLnV3v"
      },
      "source": [
        "### ETL for different types of data"
      ]
    },
    {
      "cell_type": "markdown",
      "source": [
        "Here we extract and transform computational data from a Gaussian DFT [log file](https://github.com/D3TaLES/databases_demo/tree/main/raw_data/tddft_biphenyl.log), then load the data to the database."
      ],
      "metadata": {
        "id": "X6_gOpY89MH4"
      }
    },
    {
      "cell_type": "code",
      "execution_count": null,
      "metadata": {
        "id": "ZwuBTEmzIcw4"
      },
      "outputs": [],
      "source": [
        "# EXTRACT and TRANSFORM Gaussian DFT data\n",
        "gaussian_data = ProcessDFT('databases_demo/raw_data/tddft_biphenyl.log', mol_id=bp_id, sql=False).data\n",
        "\n",
        "# Validate data\n",
        "validate(instance={\"_id\": bp_id, \"dft_data\": gaussian_data}, schema=schema)\n",
        "\n",
        "# LOAD DFT data into database\n",
        "db[\"molecules\"].update_one({\"_id\": bp_id}, {\"$set\": {\"dft_data\": gaussian_data}}, upsert=True)"
      ]
    },
    {
      "cell_type": "markdown",
      "source": [
        "Here we extract and transform experimental UV-Vis data from a UV-Vis [output CSV file](https://github.com/D3TaLES/databases_demo/tree/main/raw_data/uvvis_biphenyl.csv), then load the data to the database. A demonstration of the parsing done here can be found [in this Colab notebook](https://github.com/D3TaLES/databases_demo/blob/main/notebooks/processing_notebook.ipynb). "
      ],
      "metadata": {
        "id": "co6807hz9ent"
      }
    },
    {
      "cell_type": "code",
      "execution_count": null,
      "metadata": {
        "id": "adqndbEMqmNN"
      },
      "outputs": [],
      "source": [
        "# Insert UV-Vis data\n",
        "uvvis_data = ProcessUvVis('databases_demo/raw_data/uvvis_biphenyl.csv', mol_id=bp_id, sql=False).data\n",
        "\n",
        "# Validate data\n",
        "validate(instance={\"_id\": bp_id, \"uvvis_data\": uvvis_data}, schema=schema)\n",
        "\n",
        "# # Insert molecule into database\n",
        "db[\"molecules\"].update_one({\"_id\": bp_id},  {\"$set\": {\"uvvis_data\": uvvis_data}}, upsert=True)"
      ]
    },
    {
      "cell_type": "markdown",
      "source": [
        "Here we loop through a dictionary of molecule names and their SMILES strings, and for each, we generate computational and experimental data, validate the data, and insert them to the database."
      ],
      "metadata": {
        "id": "2MFYyvYN9nUf"
      }
    },
    {
      "cell_type": "code",
      "source": [
        "# Insert DFT and UV-Vis data for other molecules \n",
        "\n",
        "for name, mol_id in extra_mol_ids.items(): \n",
        "  # Extract and transform data\n",
        "  gaussian_data = ProcessDFT('databases_demo/raw_data/tddft_'+name+'.log', mol_id=mol_id, sql=False).data\n",
        "  uvvis_data = ProcessUvVis('databases_demo/raw_data/uvvis_'+name+'.csv', mol_id=mol_id, sql=False).data\n",
        "  # Validate \n",
        "  validate(instance={\"_id\": mol_id, \"dft_data\": gaussian_data, \"uvvis_data\": uvvis_data}, schema=schema)\n",
        "  # Load\n",
        "  db[\"molecules\"].update_one({\"_id\": mol_id}, {\"$set\": {\"dft_data\": gaussian_data, \"uvvis_data\": uvvis_data}}, upsert=True)"
      ],
      "metadata": {
        "id": "MUqWNFGe3KSk"
      },
      "execution_count": null,
      "outputs": []
    },
    {
      "cell_type": "markdown",
      "metadata": {
        "id": "nUGq5c0Lnexa"
      },
      "source": [
        "## 4. Query the database"
      ]
    },
    {
      "cell_type": "markdown",
      "source": [
        "### Basic Queries\n",
        "\n",
        "Here we demonstrate basic database queries and basic data plotting using [pandas](https://pandas.pydata.org/) and [matplotlib](https://matplotlib.org/). A basic query contains two parts: selection and projection. The selection portion filters the data record(s) (documents for No-SQL) that will be returned. The projection specifies the record attribute(s) (fields for No-SQL) that will be shown. For example, imagine a researcher wants to know the SMILES strings for all molecules in a database that have a molecular weight more than 100 g/mol. The selection would stipulate only data records with a molecular weight greater than 100 g/mol, while the projection would specify the return of the SMILES attribute. Alternatively, the researcher might like to list the lowest-lying excited state energy for every molecule or find and count all molecules with more than ten atoms. Basic queries like this are quick and easy in both SQL and No-SQL databases, even when tens of thousands of molecules are present. \n",
        "\n",
        "<img src='https://drive.google.com/uc?export=view&id=1UMVTFtGqeuZUiS5tgIr-GsKOOO6s1KDX' width=\"700\" height=\"500\">"
      ],
      "metadata": {
        "id": "lYDt6xtz7Ovh"
      }
    },
    {
      "cell_type": "code",
      "execution_count": null,
      "metadata": {
        "id": "a06L9Yokjmxx"
      },
      "outputs": [],
      "source": [
        "# Get Molecules data\n",
        "query = db[\"molecules\"].find({})\n",
        "\n",
        "# Use Pandas DataFrame package to view the results of your query \n",
        "pd.DataFrame(list(query))"
      ]
    },
    {
      "cell_type": "code",
      "execution_count": null,
      "metadata": {
        "id": "0_J5E17ccYpa"
      },
      "outputs": [],
      "source": [
        "# Count the number of molecules in the database\n",
        "db[\"molecules\"].count_documents({})"
      ]
    },
    {
      "cell_type": "code",
      "execution_count": null,
      "metadata": {
        "id": "vGBC8AlXcdZB"
      },
      "outputs": [],
      "source": [
        "# Get molecules with more than 10 atoms\n",
        "query = db[\"molecules\"].find({\"number_of_atoms\": { \"$gt\": 10}})\n",
        "\n",
        "# Use Pandas DataFrame package to view the results of your query \n",
        "pd.DataFrame(list(query))"
      ]
    },
    {
      "cell_type": "code",
      "execution_count": null,
      "metadata": {
        "id": "K3bTB1w1cdWl"
      },
      "outputs": [],
      "source": [
        "# Get molecules with greater than 10 atoms, showing only molecule IDs\n",
        "query = db[\"molecules\"].find({\"number_of_atoms\": { \"$gt\": 10}}, {\"_id\": 1})\n",
        "\n",
        "# Use Pandas DataFrame package to view the results of your query \n",
        "pd.DataFrame(list(query))"
      ]
    },
    {
      "cell_type": "code",
      "execution_count": null,
      "metadata": {
        "id": "1O9kzSa3veA9"
      },
      "outputs": [],
      "source": [
        "# Get all the SMILES string in the molecules database where the molecular weight is greater than 100 \n",
        "query = db[\"molecules\"].find({\"molecular_weight\": {\"$gt\": 100}}, {\"smiles\": 1})\n",
        "\n",
        "# Use Pandas DataFrame package to view the results of your query \n",
        "pd.DataFrame(list(query))"
      ]
    },
    {
      "cell_type": "code",
      "execution_count": null,
      "metadata": {
        "id": "3cjGXSnBuKVU"
      },
      "outputs": [],
      "source": [
        "# Search for all single excitation values in the database\n",
        "query = db[\"molecules\"].find({}, {\"dft_data.first_excitation\": 1})\n",
        "pd.DataFrame(list(query))"
      ]
    },
    {
      "cell_type": "markdown",
      "source": [
        "### Plotting\n",
        "\n",
        "Here we demonstrate the data analysis examples from the paper: (1) Comparing computationally-estimated singlet excitation and experimentally-measured optical gap and (2) plotting spectrum only when the singlet excitation energy is greater than 4 eV."
      ],
      "metadata": {
        "id": "85EMGycE7Mlr"
      }
    },
    {
      "cell_type": "code",
      "source": [
        "# Get the absorption spectrum data for cyclohexen-eylbenzene\n",
        "query = db[\"molecules\"].find({\"_id\":\"cyclohexen-1-ylbenzene\"}, {\"uvvis_data.absorbance_data\": 1})\n",
        "# Convert data to a Pandas DataFrame for plotting\n",
        "df = pd.DataFrame(query[0]['uvvis_data']['absorbance_data'])\n",
        "# Plot data\n",
        "df.plot(x='wavelength', y='absorbance')"
      ],
      "metadata": {
        "id": "GLpAvx9a7MNd"
      },
      "execution_count": null,
      "outputs": []
    },
    {
      "cell_type": "markdown",
      "source": [
        "#### EXAMPLE 1: Comparing computationally-estimated singlet excitation and experimentally-measured optical gap\n",
        "\n",
        "<img src='https://drive.google.com/uc?export=view&id=1x3aewF8CECgWGbpmTEZ7wFrmm54Q43bu' width=\"400\" height=\"550\">"
      ],
      "metadata": {
        "id": "FhxE1SjlfhZZ"
      }
    },
    {
      "cell_type": "code",
      "source": [
        "# Gather data\n",
        "query = db[\"molecules\"].find({}, {\"dft_data.first_excitation\": 1, \n",
        "                                  \"uvvis_data.optical_gap\": 1})\n",
        "# Plot data\n",
        "fig, ax = plt.subplots(figsize=(4,3))\n",
        "for mol in query: \n",
        "  ax.scatter(mol[\"uvvis_data\"]['optical_gap'], mol[\"dft_data\"]['first_excitation'], label=mol['_id'])\n",
        "\n",
        "# Add plot labels \n",
        "plt.legend()\n",
        "plt.xlabel('Optical Gap (eV)')\n",
        "plt.ylabel('Singlet Excitation (eV)')\n",
        "plt.tight_layout()\n",
        "plt.savefig('plot1.png', dpi=300)"
      ],
      "metadata": {
        "id": "GJyZkM1If-55"
      },
      "execution_count": null,
      "outputs": []
    },
    {
      "cell_type": "markdown",
      "source": [
        "####EXAMPLE 2: Plotting spectrum for only molecules where the singlet excitation is greater than 4 eV \n",
        "\n",
        "<img src='https://drive.google.com/uc?export=view&id=1rK6b6dph5siCMWoP_Sz59VDfhB93O2nj' width=\"400\" height=\"550\">"
      ],
      "metadata": {
        "id": "qiuLZJ1E9CfS"
      }
    },
    {
      "cell_type": "code",
      "source": [
        "# Search for all singlet excitation values in the database\n",
        "query = db[\"molecules\"].find({}, {\"dft_data.first_excitation\": 1})\n",
        "pd.DataFrame(list(query))"
      ],
      "metadata": {
        "id": "Cfwl2vtj2k7f"
      },
      "execution_count": null,
      "outputs": []
    },
    {
      "cell_type": "code",
      "source": [
        "# Get the molecules wtih a singlet excitation greater than 4\n",
        "query = db[\"molecules\"].find({\"dft_data.first_excitation\": {\"$gt\": 4}})\n",
        "\n",
        "# Plot absorption spectra for the molecules queried \n",
        "fig, ax = plt.subplots(figsize=(4.2,3))\n",
        "for mol in query: \n",
        "  plot_df = pd.DataFrame(mol[\"uvvis_data\"]['absorbance_data'])\n",
        "  ax.plot(plot_df.wavelength, plot_df.absorbance, label=mol['_id'])\n",
        "plt.legend()\n",
        "\n",
        "# Add details \n",
        "plt.legend()\n",
        "plt.xlabel('Wavelength (nm)')\n",
        "plt.ylabel('Absorption')\n",
        "plt.tight_layout()\n",
        "plt.savefig('abs2.png', dpi=300)"
      ],
      "metadata": {
        "id": "Cik7bMUF9CFe"
      },
      "execution_count": null,
      "outputs": []
    },
    {
      "cell_type": "markdown",
      "source": [
        "# !!! Reset Database !!!"
      ],
      "metadata": {
        "id": "upYN9IAZFWxE"
      }
    },
    {
      "cell_type": "code",
      "source": [
        "client.drop_database('test_db')"
      ],
      "metadata": {
        "id": "QV-yEOy1feeI"
      },
      "execution_count": null,
      "outputs": []
    }
  ],
  "metadata": {
    "colab": {
      "collapsed_sections": [
        "rNzFNLUkc9J5",
        "MDC6kF2vsSXF",
        "nUGq5c0Lnexa",
        "lYDt6xtz7Ovh"
      ],
      "provenance": [],
      "private_outputs": true,
      "include_colab_link": true
    },
    "kernelspec": {
      "display_name": "Python 3",
      "name": "python3"
    },
    "language_info": {
      "name": "python"
    },
    "gpuClass": "standard"
  },
  "nbformat": 4,
  "nbformat_minor": 0
}