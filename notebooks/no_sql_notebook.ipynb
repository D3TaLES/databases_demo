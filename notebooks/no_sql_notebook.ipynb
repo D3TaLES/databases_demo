{
  "cells": [
    {
      "cell_type": "markdown",
      "metadata": {
        "id": "view-in-github",
        "colab_type": "text"
      },
      "source": [
        "<a href=\"https://colab.research.google.com/github/D3TaLES/databases_demo/blob/main/notebooks/no_sql_notebook.ipynb\" target=\"_parent\"><img src=\"https://colab.research.google.com/assets/colab-badge.svg\" alt=\"Open In Colab\"/></a>"
      ]
    },
    {
      "cell_type": "markdown",
      "metadata": {
        "id": "rNzFNLUkc9J5"
      },
      "source": [
        "# Install and Import Needed Code\n",
        "( This may take a few minutes ) "
      ]
    },
    {
      "cell_type": "code",
      "execution_count": null,
      "metadata": {
        "id": "j7VaSLbIFmZ4"
      },
      "outputs": [],
      "source": [
        "%%capture\n",
        "! apt install mongodb > log  # Install the No-SQL database arcitecture MongoDB \n",
        "! service mongodb start  # Start MongoDB\n",
        "! pip install pymatgen  # Install Pymatgen for Gaussian file parsing \n",
        "! pip install pubchempy  # Install PubChem python API for moleucle information\n",
        "! pip install rdkit-pypi  # Install RdKit for molecule transformations"
      ]
    },
    {
      "cell_type": "code",
      "execution_count": null,
      "metadata": {
        "id": "miN41ShFFnD1"
      },
      "outputs": [],
      "source": [
        "! rm -r databases_demo/ # Remove database_demo directory if it already exists\n",
        "! git clone https://github.com/D3TaLES/databases_demo.git # Get Processing code from GitHub"
      ]
    },
    {
      "cell_type": "code",
      "execution_count": null,
      "metadata": {
        "id": "hjisDzzhEQgo"
      },
      "outputs": [],
      "source": [
        "# Import required packages\n",
        "import pandas as pd\n",
        "import numpy as np\n",
        "import matplotlib.pyplot as plt\n",
        "from pymongo import MongoClient\n",
        "from jsonschema import validate\n",
        "from databases_demo.file_parser import *"
      ]
    },
    {
      "cell_type": "markdown",
      "metadata": {
        "id": "FcT34flZm6-F"
      },
      "source": [
        "# 1. Initialize the database "
      ]
    },
    {
      "cell_type": "code",
      "execution_count": null,
      "metadata": {
        "id": "QOLDTgc_ERcT"
      },
      "outputs": [],
      "source": [
        "# Create database\n",
        "client = MongoClient()\n",
        "db = client['test_db']"
      ]
    },
    {
      "cell_type": "markdown",
      "metadata": {
        "id": "KUHe0pc3nDw9"
      },
      "source": [
        "# 2. Load Schema and use it to validate example data"
      ]
    },
    {
      "cell_type": "code",
      "execution_count": null,
      "metadata": {
        "id": "le8F_lEBEZR4"
      },
      "outputs": [],
      "source": [
        "# Get Schema by extracting schema from schema file\n",
        "with open('databases_demo/schema/no-sql_schema.json') as fn:\n",
        "    schema = json.load(fn)\n"
      ]
    },
    {
      "cell_type": "code",
      "execution_count": null,
      "metadata": {
        "id": "i9NTVweGEdv3"
      },
      "outputs": [],
      "source": [
        "# Generate basic data for biphenyl\n",
        "mol_data = GenerateMolInfo(smiles=\"C1=C(c2ccccc2)CCCC1\", source='our_lab', names=['biphenyl'], sql=False).data\n",
        "# Get the generated primary key for biphenyl\n",
        "bp_id = mol_data.get('_id')\n",
        "\n",
        "# Validate data\n",
        "validate(instance=mol_data, schema=schema)"
      ]
    },
    {
      "cell_type": "code",
      "source": [
        "mol_data"
      ],
      "metadata": {
        "id": "0X-uue7b6Fwr"
      },
      "execution_count": null,
      "outputs": []
    },
    {
      "cell_type": "markdown",
      "metadata": {
        "id": "l1BclhQvnNxh"
      },
      "source": [
        "# 3. Insert validated data ino the database"
      ]
    },
    {
      "cell_type": "code",
      "execution_count": null,
      "metadata": {
        "id": "3un7tWnjnNjD"
      },
      "outputs": [],
      "source": [
        "# Insert molecule into database\n",
        "db[\"molecules\"].insert_one(mol_data)"
      ]
    },
    {
      "cell_type": "markdown",
      "metadata": {
        "id": "MDC6kF2vsSXF"
      },
      "source": [
        "## Insert different molecules into the database"
      ]
    },
    {
      "cell_type": "code",
      "execution_count": null,
      "metadata": {
        "id": "v52V_P10sW-9"
      },
      "outputs": [],
      "source": [
        "# Insert Benzene, Nitrobenzene, and Anthracene\n",
        "extra_mols = {'benzene': \"C1=CC=CC=C1\", 'nitrobenzene': \"C1=CC=C(C=C1)[N+](=O)[O-]\", 'anthracene': \"C1=CC=C2C=C3C=CC=CC3=CC2=C1\"}\n",
        "extra_mol_ids = {}\n",
        "for name, smiles in extra_mols.items(): \n",
        "  mol_data = GenerateMolInfo(smiles, source='our_lab', names=[name], sql=False).data\n",
        "  validate(instance=mol_data, schema=schema)\n",
        "  db[\"molecules\"].insert_one(mol_data)\n",
        "\n",
        "  # Record moleucle id\n",
        "  extra_mol_ids[name] = mol_data.get('_id')\n"
      ]
    },
    {
      "cell_type": "markdown",
      "metadata": {
        "id": "HVLzwhwLnV3v"
      },
      "source": [
        "## Insert different types of data in to the database "
      ]
    },
    {
      "cell_type": "code",
      "execution_count": null,
      "metadata": {
        "id": "ZwuBTEmzIcw4"
      },
      "outputs": [],
      "source": [
        "# Insert Gaussian DFT data\n",
        "# Note: These cells use automatic file processors (which use the same techniques as shown in the above manula processors)\n",
        "\n",
        "gaussian_data = ProcessDFT('databases_demo/raw_data/tddft_biphenyl.log', mol_id=bp_id, sql=False).data\n",
        "\n",
        "# Validate data\n",
        "validate(instance={\"_id\": bp_id, \"dft_data\": gaussian_data}, schema=schema)\n",
        "\n",
        "# Insert molecule into database\n",
        "db[\"molecules\"].update_one({\"_id\": bp_id}, {\"$set\": {\"dft_data\": gaussian_data}}, upsert=True)"
      ]
    },
    {
      "cell_type": "code",
      "execution_count": null,
      "metadata": {
        "id": "adqndbEMqmNN"
      },
      "outputs": [],
      "source": [
        "# Insert UV-Vis data\n",
        "uvvis_data = ProcessUvVis('databases_demo/raw_data/uvvis_biphenyl.csv', mol_id=bp_id, sql=False).data\n",
        "\n",
        "# Validate data\n",
        "validate(instance={\"_id\": bp_id, \"uvvis_data\": uvvis_data}, schema=schema)\n",
        "\n",
        "# # Insert molecule into database\n",
        "db[\"molecules\"].update_one({\"_id\": bp_id},  {\"$set\": {\"uvvis_data\": uvvis_data}}, upsert=True)"
      ]
    },
    {
      "cell_type": "code",
      "source": [
        "# Insert DFT and UV-Vis data for other molecules \n",
        "\n",
        "for name, mol_id in extra_mol_ids.items(): \n",
        "  # Generate data\n",
        "  gaussian_data = ProcessDFT('databases_demo/raw_data/tddft_'+name+'.log', mol_id=mol_id, sql=False).data\n",
        "  uvvis_data = ProcessUvVis('databases_demo/raw_data/uvvis_'+name+'.csv', mol_id=mol_id, sql=False).data\n",
        "  # Validate \n",
        "  validate(instance={\"_id\": mol_id, \"dft_data\": gaussian_data, \"uvvis_data\": uvvis_data}, schema=schema)\n",
        "  # Insert\n",
        "  db[\"molecules\"].update_one({\"_id\": mol_id}, {\"$set\": {\"dft_data\": gaussian_data, \"uvvis_data\": uvvis_data}}, upsert=True)"
      ],
      "metadata": {
        "id": "MUqWNFGe3KSk"
      },
      "execution_count": null,
      "outputs": []
    },
    {
      "cell_type": "markdown",
      "metadata": {
        "id": "nUGq5c0Lnexa"
      },
      "source": [
        "# 4. Query the database"
      ]
    },
    {
      "cell_type": "markdown",
      "source": [
        "## Basic Queries"
      ],
      "metadata": {
        "id": "lYDt6xtz7Ovh"
      }
    },
    {
      "cell_type": "code",
      "execution_count": null,
      "metadata": {
        "id": "a06L9Yokjmxx"
      },
      "outputs": [],
      "source": [
        "# View Molecules data\n",
        "query = db[\"molecules\"].find({})\n",
        "\n",
        "# Use Pandas DataFrame package to view the results of your query \n",
        "pd.DataFrame(list(query))"
      ]
    },
    {
      "cell_type": "code",
      "execution_count": null,
      "metadata": {
        "id": "0_J5E17ccYpa"
      },
      "outputs": [],
      "source": [
        "# Count the number of molecules in the database\n",
        "db[\"molecules\"].count_documents({})"
      ]
    },
    {
      "cell_type": "code",
      "execution_count": null,
      "metadata": {
        "id": "vGBC8AlXcdZB"
      },
      "outputs": [],
      "source": [
        "# Get molecules with more than 10 atoms\n",
        "query = db[\"molecules\"].find({\"number_of_atoms\": { \"$gt\": 10}})\n",
        "\n",
        "# Use Pandas DataFrame package to view the results of your query \n",
        "pd.DataFrame(list(query))"
      ]
    },
    {
      "cell_type": "code",
      "execution_count": null,
      "metadata": {
        "id": "K3bTB1w1cdWl"
      },
      "outputs": [],
      "source": [
        "# Get molecules with greater than 10 atoms, showing only molecule IDs\n",
        "query = db[\"molecules\"].find({\"number_of_atoms\": { \"$gt\": 10}}, {\"_id\": 1})\n",
        "\n",
        "# Use Pandas DataFrame package to view the results of your query \n",
        "pd.DataFrame(list(query))"
      ]
    },
    {
      "cell_type": "code",
      "execution_count": null,
      "metadata": {
        "id": "1O9kzSa3veA9"
      },
      "outputs": [],
      "source": [
        "# Get all the SMILES string in the molecules database where the molecular weight is greater than 100 \n",
        "query = db[\"molecules\"].find({\"molecular_weight\": {\"$gt\": 100}}, {\"smiles\": 1})\n",
        "\n",
        "# Use Pandas DataFrame package to view the results of your query \n",
        "pd.DataFrame(list(query))"
      ]
    },
    {
      "cell_type": "code",
      "execution_count": null,
      "metadata": {
        "id": "3cjGXSnBuKVU"
      },
      "outputs": [],
      "source": [
        "# Search for all single excitation values in the database\n",
        "query = db[\"molecules\"].find({}, {\"dft_data.first_excitation\": 1})\n",
        "pd.DataFrame(list(query))"
      ]
    },
    {
      "cell_type": "markdown",
      "source": [
        "## Plotting"
      ],
      "metadata": {
        "id": "85EMGycE7Mlr"
      }
    },
    {
      "cell_type": "code",
      "source": [
        "# Get the absorption spectrum data for cyclohexen-eylbenzene\n",
        "query = db[\"molecules\"].find({\"_id\":\"cyclohexen-1-ylbenzene\"}, {\"uvvis_data.absorbance_data\": 1})\n",
        "# Convert data to a Pandas DataFrame for plotting\n",
        "df = pd.DataFrame(query[0]['uvvis_data']['absorbance_data'])\n",
        "# Plot data\n",
        "df.plot(x='wavelength', y='absorbance')"
      ],
      "metadata": {
        "id": "GLpAvx9a7MNd"
      },
      "execution_count": null,
      "outputs": []
    },
    {
      "cell_type": "markdown",
      "source": [
        "## Comparing computationally-estimated singlet excitation and experimentally-measured optical gap"
      ],
      "metadata": {
        "id": "FhxE1SjlfhZZ"
      }
    },
    {
      "cell_type": "code",
      "source": [
        "# Gather data\n",
        "query = db[\"molecules\"].find({}, {\"dft_data.first_excitation\": 1, \n",
        "                                  \"uvvis_data.optical_gap\": 1})\n",
        "# Plot data\n",
        "fig, ax = plt.subplots(figsize=(4,3))\n",
        "for mol in query: \n",
        "  ax.scatter(mol[\"uvvis_data\"]['optical_gap'], mol[\"dft_data\"]['first_excitation'], label=mol['_id'])\n",
        "\n",
        "# Add plot labels \n",
        "plt.legend()\n",
        "plt.xlabel('Optical Gap (eV)')\n",
        "plt.ylabel('Singlet Excitation (eV)')\n",
        "plt.tight_layout()\n",
        "plt.savefig('plot1.png', dpi=300)"
      ],
      "metadata": {
        "id": "GJyZkM1If-55"
      },
      "execution_count": null,
      "outputs": []
    },
    {
      "cell_type": "markdown",
      "source": [
        "## Plotting spectrum for only molecules where the singlet excitation is greater than 4 eV "
      ],
      "metadata": {
        "id": "qiuLZJ1E9CfS"
      }
    },
    {
      "cell_type": "code",
      "source": [
        "# Search for all singlet excitation values in the database\n",
        "query = db[\"molecules\"].find({}, {\"dft_data.first_excitation\": 1})\n",
        "pd.DataFrame(list(query))"
      ],
      "metadata": {
        "id": "Cfwl2vtj2k7f"
      },
      "execution_count": null,
      "outputs": []
    },
    {
      "cell_type": "code",
      "source": [
        "# Get the molecules wtih a singlet excitation greater than 4\n",
        "query = db[\"molecules\"].find({\"dft_data.first_excitation\": {\"$gt\": 4}})\n",
        "\n",
        "# Plot absorption spectra for the molecules queried \n",
        "fig, ax = plt.subplots(figsize=(4.2,3))\n",
        "for mol in query: \n",
        "  plot_df = pd.DataFrame(mol[\"uvvis_data\"]['absorbance_data'])\n",
        "  ax.plot(plot_df.wavelength, plot_df.absorbance, label=mol['_id'])\n",
        "plt.legend()\n",
        "\n",
        "# Add details \n",
        "plt.legend()\n",
        "plt.xlabel('Wavelength (nm)')\n",
        "plt.ylabel('Absorption')\n",
        "plt.tight_layout()\n",
        "plt.savefig('abs2.png', dpi=300)"
      ],
      "metadata": {
        "id": "Cik7bMUF9CFe"
      },
      "execution_count": null,
      "outputs": []
    },
    {
      "cell_type": "markdown",
      "source": [
        "# !!! Reset Database !!!"
      ],
      "metadata": {
        "id": "upYN9IAZFWxE"
      }
    },
    {
      "cell_type": "code",
      "source": [
        "client.drop_database('test_db')"
      ],
      "metadata": {
        "id": "QV-yEOy1feeI"
      },
      "execution_count": null,
      "outputs": []
    }
  ],
  "metadata": {
    "colab": {
      "collapsed_sections": [
        "rNzFNLUkc9J5",
        "FcT34flZm6-F",
        "KUHe0pc3nDw9",
        "MDC6kF2vsSXF",
        "nUGq5c0Lnexa",
        "lYDt6xtz7Ovh"
      ],
      "provenance": [],
      "private_outputs": true,
      "include_colab_link": true
    },
    "kernelspec": {
      "display_name": "Python 3",
      "name": "python3"
    },
    "language_info": {
      "name": "python"
    },
    "gpuClass": "standard"
  },
  "nbformat": 4,
  "nbformat_minor": 0
}