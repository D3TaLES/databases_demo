{
  "cells": [
    {
      "cell_type": "markdown",
      "metadata": {
        "id": "view-in-github",
        "colab_type": "text"
      },
      "source": [
        "<a href=\"https://colab.research.google.com/github/D3TaLES/databases_demo/blob/main/notebooks/sql_notebook.ipynb\" target=\"_parent\"><img src=\"https://colab.research.google.com/assets/colab-badge.svg\" alt=\"Open In Colab\"/></a>"
      ]
    },
    {
      "cell_type": "markdown",
      "metadata": {
        "id": "xBhnn-CGn62-"
      },
      "source": [
        "# Install and Import Needed Code"
      ]
    },
    {
      "cell_type": "code",
      "execution_count": null,
      "metadata": {
        "id": "j7VaSLbIFmZ4"
      },
      "outputs": [],
      "source": [
        "%%capture\n",
        "! pip install pymatgen  # Install Pymatgen for Gaussian file parsing \n",
        "! pip install pubchempy  # Install PubChem python API for moleucle information\n",
        "! pip install rdkit-pypi  # Install RdKit for molecule transformations\n",
        "! pip install qcfractal # Install QCFractal for SQL schema\n",
        "! pip install sqlalchemy==1.3.* # Install SQLAlchemy for SQL database "
      ]
    },
    {
      "cell_type": "code",
      "execution_count": null,
      "metadata": {
        "id": "miN41ShFFnD1"
      },
      "outputs": [],
      "source": [
        "! rm -r databases_demo/ # Remove database_demo directory if it already exists\n",
        "! git clone https://github.com/D3TaLES/databases_demo.git # Get Processing code from GitHub"
      ]
    },
    {
      "cell_type": "code",
      "execution_count": null,
      "metadata": {
        "id": "hjisDzzhEQgo"
      },
      "outputs": [],
      "source": [
        "# Import required packages\n",
        "import sqlite3\n",
        "import datetime\n",
        "import pandas as pd\n",
        "import matplotlib.pyplot as plt\n",
        "from sqlalchemy import create_engine\n",
        "from sqlalchemy.orm import sessionmaker\n",
        "from sqlalchemy.sql.schema import MetaData\n",
        "from databases_demo.file_parser import *\n",
        "from databases_demo.schema.sql_schema import *"
      ]
    },
    {
      "cell_type": "markdown",
      "metadata": {
        "id": "LEHdeI02n-ku"
      },
      "source": [
        "# 1. Initialize the database "
      ]
    },
    {
      "cell_type": "code",
      "execution_count": null,
      "metadata": {
        "id": "ZwuBTEmzIcw4"
      },
      "outputs": [],
      "source": [
        "# Connect to the database\n",
        "engine = create_engine('sqlite:///sample.db') \n",
        "Session = sessionmaker(bind=engine)\n",
        "session = Session()\n",
        "\n",
        "# Create tables\n",
        "MetaData(bind=engine).create_all(tables=[\n",
        "                                         Molecules.__table__,\n",
        "                                         DftData.__table__,\n",
        "                                         Synonyms.__table__, \n",
        "                                         UvVisData.__table__,\n",
        "                                         AbsorbanceData.__table__\n",
        "                                         ])"
      ]
    },
    {
      "cell_type": "markdown",
      "metadata": {
        "id": "srjgPDzZoF05"
      },
      "source": [
        "# 2. Generate Example data"
      ]
    },
    {
      "cell_type": "code",
      "execution_count": null,
      "metadata": {
        "id": "Z6BLvXfvn_c0"
      },
      "outputs": [],
      "source": [
        "# Generate basic data for biphenyl\n",
        "data_generation = GenerateMolInfo(smiles=\"C1=C(c2ccccc2)CCCC1\", source='our_lab', names=['biphenyl'])\n",
        "mol_data = data_generation.data\n",
        "# Get the generated primary key for biphenyl\n",
        "bp_id = mol_data.get('mol_id')\n",
        "\n",
        "mol_data # Show data"
      ]
    },
    {
      "cell_type": "code",
      "execution_count": null,
      "metadata": {
        "id": "kS_zMlFTGTUA"
      },
      "outputs": [],
      "source": [
        "# Get synonym data \n",
        "synonym_rawdata = data_generation.synonym_data\n",
        "# Convert each synonym table row into a validated object\n",
        "synonym_data = [Synonyms(**data) for data in synonym_rawdata] \n",
        "\n",
        "synonym_rawdata[:5] # Show (first 5 pieces of) data"
      ]
    },
    {
      "cell_type": "markdown",
      "metadata": {
        "id": "AEwTviiroGyr"
      },
      "source": [
        "# 3. Insert validated data ino the database"
      ]
    },
    {
      "cell_type": "code",
      "execution_count": null,
      "metadata": {
        "id": "8ZfzR4JKoGnZ"
      },
      "outputs": [],
      "source": [
        "# add single molecule object to the Molecules table\n",
        "session.add(Molecules(**mol_data))\n",
        "session.commit()\n",
        "\n",
        "# add multiple synonym objects to the Synonym table\n",
        "session.bulk_save_objects(synonym_data) \n",
        "session.commit()\n"
      ]
    },
    {
      "cell_type": "markdown",
      "metadata": {
        "id": "szRgZ1YGtMEb"
      },
      "source": [
        "## Insert different molecules into the database "
      ]
    },
    {
      "cell_type": "code",
      "execution_count": null,
      "metadata": {
        "id": "VXlE9aMToMVj"
      },
      "outputs": [],
      "source": [
        "# Insert Benzene, Nitrobenzene, and Anthracene\n",
        "extra_mols = {'benzene': \"C1=CC=CC=C1\", 'nitrobenzene': \"C1=CC=C(C=C1)[N+](=O)[O-]\", 'anthracene': \"C1=CC=C2C=C3C=CC=CC3=CC2=C1\"}\n",
        "extra_mol_ids = {}\n",
        "for name, smiles in extra_mols.items(): \n",
        "  mol_data = GenerateMolInfo(smiles, source='our_lab', names=[name]).data\n",
        "  session.add(Molecules(**mol_data))\n",
        "  session.commit()\n",
        "\n",
        "  # Record moleucle id\n",
        "  extra_mol_ids[name] = mol_data.get('mol_id')\n"
      ]
    },
    {
      "cell_type": "markdown",
      "metadata": {
        "id": "3XwpcFK8oMn9"
      },
      "source": [
        "## Insert different types of data in to the database "
      ]
    },
    {
      "cell_type": "code",
      "source": [
        "# Insert Gaussian DFT data\n",
        "# Note: These cells use automatic file processors (which use the same techniques as shown in the above manula processors)\n",
        "gaussian_data = ProcessDFT('databases_demo/raw_data/tddft_biphenyl.log', mol_id=bp_id).data\n",
        "\n",
        "# Insert molecule into database\n",
        "session.add(DftData(**gaussian_data))\n",
        "session.commit()"
      ],
      "metadata": {
        "id": "-SyGDhel0Cj0"
      },
      "execution_count": null,
      "outputs": []
    },
    {
      "cell_type": "code",
      "source": [
        "# Insert UV-Vis data\n",
        "uvvis_data = ProcessUvVis('databases_demo/raw_data/uvvis_biphenyl.csv', mol_id=bp_id).data\n",
        "# Insert UV-Vis data into database\n",
        "session.add(UvVisData(**uvvis_data))\n",
        "session.commit()\n",
        "\n",
        "absorbance_rawdata = ProcessUvVis('databases_demo/raw_data/uvvis_biphenyl.csv', mol_id=bp_id).absorbance_data\n",
        "# Convert each absorbance table row into a validated object\n",
        "absorbance_data = [AbsorbanceData(**data) for data in absorbance_rawdata] \n",
        "# Insert Absorbance data into database\n",
        "session.bulk_save_objects(absorbance_data) \n",
        "session.commit()"
      ],
      "metadata": {
        "id": "_OhJYex90DES"
      },
      "execution_count": null,
      "outputs": []
    },
    {
      "cell_type": "code",
      "source": [
        "# Insert DFT and UV-Vis data for other molecules \n",
        "\n",
        "for name, mol_id in extra_mol_ids.items(): \n",
        "  # Generate data\n",
        "  gaussian_data = ProcessDFT('databases_demo/raw_data/tddft_'+name+'.log', mol_id=mol_id).data\n",
        "  uvvis_data = ProcessUvVis('databases_demo/raw_data/uvvis_'+name+'.csv', mol_id=mol_id).data\n",
        "  absorbance_rawdata = ProcessUvVis('databases_demo/raw_data/uvvis_'+name+'.csv', mol_id=mol_id).absorbance_data\n",
        "  absorbance_data = [AbsorbanceData(**data) for data in absorbance_rawdata] \n",
        "  # Add data\n",
        "  session.add(DftData(**gaussian_data))\n",
        "  session.add(UvVisData(**uvvis_data))\n",
        "  session.bulk_save_objects(absorbance_data) \n",
        "  # Commit insertions\n",
        "  session.commit()"
      ],
      "metadata": {
        "id": "BTZN8Tix7qgs"
      },
      "execution_count": null,
      "outputs": []
    },
    {
      "cell_type": "markdown",
      "metadata": {
        "id": "m6bxYAtuoLt9"
      },
      "source": [
        "# 4. Query the database"
      ]
    },
    {
      "cell_type": "markdown",
      "source": [
        "## Basic Queries"
      ],
      "metadata": {
        "id": "fxMz6hs00oRg"
      }
    },
    {
      "cell_type": "code",
      "execution_count": null,
      "metadata": {
        "id": "Q_53RgLfoLgn"
      },
      "outputs": [],
      "source": [
        "# View Molecules data table\n",
        "pd.read_sql(\"molecules\", engine.connect())"
      ]
    },
    {
      "cell_type": "code",
      "source": [
        "# View UV-Vis data table\n",
        "pd.read_sql(\"uvvis_data\", engine.connect())"
      ],
      "metadata": {
        "id": "jw7IbdXPAHgE"
      },
      "execution_count": null,
      "outputs": []
    },
    {
      "cell_type": "code",
      "source": [
        "# View DFT data table\n",
        "pd.read_sql(\"dft_data\", engine.connect())"
      ],
      "metadata": {
        "id": "8W8rJ-rhFx30"
      },
      "execution_count": null,
      "outputs": []
    },
    {
      "cell_type": "code",
      "execution_count": null,
      "metadata": {
        "id": "Wcl_dSUViLZS"
      },
      "outputs": [],
      "source": [
        "# Count the number of molecules in the database\n",
        "pd.read_sql(\"SELECT COUNT(*) FROM molecules;\", engine.connect())"
      ]
    },
    {
      "cell_type": "code",
      "source": [
        "# Get molecules with more than 10 atoms\n",
        "pd.read_sql(\"SELECT * FROM molecules WHERE number_of_atoms > 10;\", engine.connect())"
      ],
      "metadata": {
        "id": "lonbOmZ3xpEe"
      },
      "execution_count": null,
      "outputs": []
    },
    {
      "cell_type": "code",
      "source": [
        "# Get molecules with more than 10 atoms, showing only molecule IDs\n",
        "pd.read_sql(\"SELECT * FROM molecules AS mols WHERE number_of_atoms > 10;\", engine.connect())"
      ],
      "metadata": {
        "id": "J2PxUix_xpB2"
      },
      "execution_count": null,
      "outputs": []
    },
    {
      "cell_type": "code",
      "source": [
        "# Get all the SMILES string in the molecules database where the molecular weight is greater than 100 \n",
        "pd.read_sql(\"SELECT smiles FROM molecules WHERE molecular_weight > 100;\", engine.connect())"
      ],
      "metadata": {
        "id": "4pE49Ygnxo-j"
      },
      "execution_count": null,
      "outputs": []
    },
    {
      "cell_type": "code",
      "source": [
        "# Search for all singlet excitation energy values in the database\n",
        "pd.read_sql(\"SELECT mols.mol_id, mols.smiles, dft.first_excitation FROM dft_data AS dft INNER JOIN molecules AS mols ON (dft.mol_id=mols.mol_id);\", engine.connect())\n",
        "\n",
        "# Technically this query could work too (though it wouldn't give smiles), but it wouldn't demonstrate how to perform a table join \n",
        "# pd.read_sql(\"SELECT mol_id, first_excitation FROM dft_data;\", engine.connect())"
      ],
      "metadata": {
        "id": "k-s21G7qxo7-"
      },
      "execution_count": null,
      "outputs": []
    },
    {
      "cell_type": "markdown",
      "source": [
        "## Plotting"
      ],
      "metadata": {
        "id": "AIZ918r0ANEp"
      }
    },
    {
      "cell_type": "code",
      "source": [
        "# Get the absorption spectrum data for cyclohexen-eylbenzene\n",
        "query = pd.read_sql(\"SELECT wavelength, absorbance FROM absorbance_data WHERE mol_id LIKE 'cyclohexen-1-ylbenzene';\", engine.connect())\n",
        "# Plot data\n",
        "query.plot(x='wavelength', y='absorbance')"
      ],
      "metadata": {
        "id": "zn5vQDtNz25B"
      },
      "execution_count": null,
      "outputs": []
    },
    {
      "cell_type": "markdown",
      "source": [
        "## Comparing computationally-estimated singlet excitation and experimentally-measured optical gap"
      ],
      "metadata": {
        "id": "Caz9ZhBWfx4h"
      }
    },
    {
      "cell_type": "code",
      "source": [
        "# Gather data\n",
        "query = pd.read_sql(\"\"\" \n",
        "  SELECT uvv.mol_id, uvv.optical_gap, dft.first_excitation \n",
        "  FROM dft_data AS dft INNER JOIN uvvis_data AS uvv \n",
        "  ON (dft.mol_id=uvv.mol_id);\n",
        "\"\"\", engine.connect())\n",
        "query"
      ],
      "metadata": {
        "id": "TOstRH_5fyne"
      },
      "execution_count": null,
      "outputs": []
    },
    {
      "cell_type": "code",
      "source": [
        "# Plot data\n",
        "fig, ax = plt.subplots(figsize=(4,3))\n",
        "\n",
        "for i, mol in query.iterrows(): \n",
        "  plt.scatter(mol.optical_gap, mol.first_excitation, label=mol.mol_id)\n",
        "\n",
        "# Add plot details \n",
        "plt.legend()\n",
        "plt.xlabel('Optical Gap (eV)')\n",
        "plt.ylabel('Singlet Excitation Energy (eV)')\n",
        "plt.tight_layout()\n",
        "plt.savefig('plot1.png', dpi=300)"
      ],
      "metadata": {
        "id": "af9dIjb5iJuw"
      },
      "execution_count": null,
      "outputs": []
    },
    {
      "cell_type": "markdown",
      "source": [
        "## Plotting spectrum only when the singlet excitation energy is greater than 4 eV"
      ],
      "metadata": {
        "id": "NVIXbFUEAOgY"
      }
    },
    {
      "cell_type": "code",
      "source": [
        "# Search for all singlet excitation values in the database\n",
        "pd.read_sql(\"SELECT first_excitation FROM dft_data;\", engine.connect())"
      ],
      "metadata": {
        "id": "fSZdCy5FBKRD"
      },
      "execution_count": null,
      "outputs": []
    },
    {
      "cell_type": "code",
      "source": [
        "# Get the molecules wtih a single excitation greater than 4\n",
        "molecules = pd.read_sql(\"SELECT mol_id from dft_data WHERE first_excitation > 4;\", engine.connect())\n",
        "\n",
        "# Plot absorption spectra for the molecules queried \n",
        "fig, ax = plt.subplots(figsize=(4.2,3))\n",
        "for mol in molecules.mol_id: \n",
        "  query = pd.read_sql(f\"SELECT wavelength, absorbance FROM absorbance_data WHERE mol_id LIKE '{mol}';\", engine.connect())\n",
        "  ax.plot(query.wavelength, query.absorbance, label=mol)\n",
        "\n",
        "# Add details \n",
        "plt.legend()\n",
        "plt.xlabel('Wavelength (nm)')\n",
        "plt.ylabel('Absorption')\n",
        "plt.tight_layout()\n",
        "plt.savefig('plot2.png', dpi=300)"
      ],
      "metadata": {
        "id": "DbgYPKK7AQtY"
      },
      "execution_count": null,
      "outputs": []
    },
    {
      "cell_type": "markdown",
      "source": [
        "# !!! Reset Database !!!"
      ],
      "metadata": {
        "id": "nu5c7bsx_6mR"
      }
    },
    {
      "cell_type": "code",
      "source": [
        "# Clean all tables! \n",
        "MetaData(bind=engine).drop_all(tables=[\n",
        "                                         Molecules.__table__,\n",
        "                                         DftData.__table__,\n",
        "                                         Synonyms.__table__, \n",
        "                                         UvVisData.__table__,\n",
        "                                         AbsorbanceData.__table__\n",
        "                                         ])"
      ],
      "metadata": {
        "id": "xjT17pLj9Saq"
      },
      "execution_count": null,
      "outputs": []
    }
  ],
  "metadata": {
    "colab": {
      "collapsed_sections": [],
      "provenance": [],
      "private_outputs": true,
      "include_colab_link": true
    },
    "kernelspec": {
      "display_name": "Python 3",
      "name": "python3"
    },
    "language_info": {
      "name": "python"
    },
    "gpuClass": "standard"
  },
  "nbformat": 4,
  "nbformat_minor": 0
}